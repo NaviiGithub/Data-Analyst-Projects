{
 "cells": [
  {
   "cell_type": "code",
   "execution_count": 4,
   "id": "7e317274",
   "metadata": {},
   "outputs": [],
   "source": [
    "import numpy as np\n",
    "import pandas as pd\n",
    "import re"
   ]
  },
  {
   "cell_type": "code",
   "execution_count": 2,
   "id": "4fced4f0",
   "metadata": {},
   "outputs": [],
   "source": [
    "data=pd.read_csv(r\"C:\\Users\\NaveenGupta\\Desktop\\New folder/Myntra_1.csv\",low_memory=False)"
   ]
  },
  {
   "cell_type": "markdown",
   "id": "3de60b03",
   "metadata": {},
   "source": [
    "# Data Cleaning"
   ]
  },
  {
   "cell_type": "code",
   "execution_count": 3,
   "id": "f32b6f57",
   "metadata": {},
   "outputs": [
    {
     "data": {
      "text/plain": [
       "URL                           0\n",
       "Product_id                    0\n",
       "BrandName                     0\n",
       "Category                      0\n",
       "Individual_category           0\n",
       "category_by_Gender            0\n",
       "Description                   0\n",
       "DiscountPrice (in Rs)    193158\n",
       "OriginalPrice (in Rs)         0\n",
       "DiscountOffer             74306\n",
       "SizeOption                    0\n",
       "Ratings                  336152\n",
       "Reviews                  336152\n",
       "dtype: int64"
      ]
     },
     "execution_count": 3,
     "metadata": {},
     "output_type": "execute_result"
    }
   ],
   "source": [
    "data.isnull().sum()"
   ]
  },
  {
   "cell_type": "code",
   "execution_count": 4,
   "id": "4c2aa061",
   "metadata": {},
   "outputs": [
    {
     "name": "stdout",
     "output_type": "stream",
     "text": [
      "<class 'pandas.core.frame.DataFrame'>\n",
      "RangeIndex: 526564 entries, 0 to 526563\n",
      "Data columns (total 13 columns):\n",
      " #   Column                 Non-Null Count   Dtype  \n",
      "---  ------                 --------------   -----  \n",
      " 0   URL                    526564 non-null  object \n",
      " 1   Product_id             526564 non-null  int64  \n",
      " 2   BrandName              526564 non-null  object \n",
      " 3   Category               526564 non-null  object \n",
      " 4   Individual_category    526564 non-null  object \n",
      " 5   category_by_Gender     526564 non-null  object \n",
      " 6   Description            526564 non-null  object \n",
      " 7   DiscountPrice (in Rs)  333406 non-null  float64\n",
      " 8   OriginalPrice (in Rs)  526564 non-null  float64\n",
      " 9   DiscountOffer          452258 non-null  object \n",
      " 10  SizeOption             526564 non-null  object \n",
      " 11  Ratings                190412 non-null  float64\n",
      " 12  Reviews                190412 non-null  float64\n",
      "dtypes: float64(4), int64(1), object(8)\n",
      "memory usage: 52.2+ MB\n"
     ]
    }
   ],
   "source": [
    "data.info()"
   ]
  },
  {
   "cell_type": "code",
   "execution_count": 5,
   "id": "770bf534",
   "metadata": {},
   "outputs": [],
   "source": [
    "data=data.loc[~((data['DiscountOffer'].isnull()) & (data['DiscountPrice (in Rs)'].isnull()))]"
   ]
  },
  {
   "cell_type": "code",
   "execution_count": 6,
   "id": "aacc45f0",
   "metadata": {},
   "outputs": [
    {
     "data": {
      "text/plain": [
       "URL                           0\n",
       "Product_id                    0\n",
       "BrandName                     0\n",
       "Category                      0\n",
       "Individual_category           0\n",
       "category_by_Gender            0\n",
       "Description                   0\n",
       "DiscountPrice (in Rs)    119036\n",
       "OriginalPrice (in Rs)         0\n",
       "DiscountOffer               184\n",
       "SizeOption                    0\n",
       "Ratings                  281394\n",
       "Reviews                  281394\n",
       "dtype: int64"
      ]
     },
     "execution_count": 6,
     "metadata": {},
     "output_type": "execute_result"
    }
   ],
   "source": [
    "data.isnull().sum()"
   ]
  },
  {
   "cell_type": "code",
   "execution_count": 7,
   "id": "86d167e8",
   "metadata": {},
   "outputs": [
    {
     "data": {
      "text/html": [
       "<div>\n",
       "<style scoped>\n",
       "    .dataframe tbody tr th:only-of-type {\n",
       "        vertical-align: middle;\n",
       "    }\n",
       "\n",
       "    .dataframe tbody tr th {\n",
       "        vertical-align: top;\n",
       "    }\n",
       "\n",
       "    .dataframe thead th {\n",
       "        text-align: right;\n",
       "    }\n",
       "</style>\n",
       "<table border=\"1\" class=\"dataframe\">\n",
       "  <thead>\n",
       "    <tr style=\"text-align: right;\">\n",
       "      <th></th>\n",
       "      <th>URL</th>\n",
       "      <th>Product_id</th>\n",
       "      <th>BrandName</th>\n",
       "      <th>Category</th>\n",
       "      <th>Individual_category</th>\n",
       "      <th>category_by_Gender</th>\n",
       "      <th>Description</th>\n",
       "      <th>DiscountPrice (in Rs)</th>\n",
       "      <th>OriginalPrice (in Rs)</th>\n",
       "      <th>DiscountOffer</th>\n",
       "      <th>SizeOption</th>\n",
       "      <th>Ratings</th>\n",
       "      <th>Reviews</th>\n",
       "    </tr>\n",
       "  </thead>\n",
       "  <tbody>\n",
       "    <tr>\n",
       "      <th>7042</th>\n",
       "      <td>https://www.myntra.com/kurta-sets/sangria/sang...</td>\n",
       "      <td>12104876</td>\n",
       "      <td>Sangria</td>\n",
       "      <td>Indian Wear</td>\n",
       "      <td>kurta-sets</td>\n",
       "      <td>Women</td>\n",
       "      <td>sangria women cream coloured yoke design kurta...</td>\n",
       "      <td>759.0</td>\n",
       "      <td>1899.0</td>\n",
       "      <td>NaN</td>\n",
       "      <td>XS, S, M, L, XL, XXL, 3XL</td>\n",
       "      <td>3.8</td>\n",
       "      <td>373.0</td>\n",
       "    </tr>\n",
       "  </tbody>\n",
       "</table>\n",
       "</div>"
      ],
      "text/plain": [
       "                                                    URL  Product_id BrandName  \\\n",
       "7042  https://www.myntra.com/kurta-sets/sangria/sang...    12104876   Sangria   \n",
       "\n",
       "         Category Individual_category category_by_Gender  \\\n",
       "7042  Indian Wear          kurta-sets              Women   \n",
       "\n",
       "                                            Description  \\\n",
       "7042  sangria women cream coloured yoke design kurta...   \n",
       "\n",
       "      DiscountPrice (in Rs)  OriginalPrice (in Rs) DiscountOffer  \\\n",
       "7042                  759.0                 1899.0           NaN   \n",
       "\n",
       "                     SizeOption  Ratings  Reviews  \n",
       "7042  XS, S, M, L, XL, XXL, 3XL      3.8    373.0  "
      ]
     },
     "execution_count": 7,
     "metadata": {},
     "output_type": "execute_result"
    }
   ],
   "source": [
    "data.loc[data['DiscountOffer'].isnull()][:1]"
   ]
  },
  {
   "cell_type": "markdown",
   "id": "0111e393",
   "metadata": {},
   "source": [
    "# Fill DiscountOffer Column"
   ]
  },
  {
   "cell_type": "code",
   "execution_count": 8,
   "id": "15b2bee9",
   "metadata": {},
   "outputs": [],
   "source": [
    "def updateDiscountOffer(values):\n",
    "    if pd.isnull(values[2]):\n",
    "        svalue=abs(values[0]-values[1])\n",
    "        result=(svalue*100)/values[1]\n",
    "        return str(round(result))+'% OFF'\n",
    "    else:\n",
    "        return values[2]"
   ]
  },
  {
   "cell_type": "code",
   "execution_count": 9,
   "id": "f2c0cd59",
   "metadata": {},
   "outputs": [],
   "source": [
    "data['DiscountOffer']=data[['DiscountPrice (in Rs)','OriginalPrice (in Rs)','DiscountOffer']].apply(updateDiscountOffer,axis=1)"
   ]
  },
  {
   "cell_type": "code",
   "execution_count": 10,
   "id": "c6489f2c",
   "metadata": {},
   "outputs": [
    {
     "data": {
      "text/plain": [
       "URL                           0\n",
       "Product_id                    0\n",
       "BrandName                     0\n",
       "Category                      0\n",
       "Individual_category           0\n",
       "category_by_Gender            0\n",
       "Description                   0\n",
       "DiscountPrice (in Rs)    119036\n",
       "OriginalPrice (in Rs)         0\n",
       "DiscountOffer                 0\n",
       "SizeOption                    0\n",
       "Ratings                  281394\n",
       "Reviews                  281394\n",
       "dtype: int64"
      ]
     },
     "execution_count": 10,
     "metadata": {},
     "output_type": "execute_result"
    }
   ],
   "source": [
    "data.isnull().sum()"
   ]
  },
  {
   "cell_type": "code",
   "execution_count": 11,
   "id": "8ac324f0",
   "metadata": {},
   "outputs": [
    {
     "name": "stdout",
     "output_type": "stream",
     "text": [
      "<class 'pandas.core.frame.DataFrame'>\n",
      "Int64Index: 452442 entries, 0 to 510812\n",
      "Data columns (total 13 columns):\n",
      " #   Column                 Non-Null Count   Dtype  \n",
      "---  ------                 --------------   -----  \n",
      " 0   URL                    452442 non-null  object \n",
      " 1   Product_id             452442 non-null  int64  \n",
      " 2   BrandName              452442 non-null  object \n",
      " 3   Category               452442 non-null  object \n",
      " 4   Individual_category    452442 non-null  object \n",
      " 5   category_by_Gender     452442 non-null  object \n",
      " 6   Description            452442 non-null  object \n",
      " 7   DiscountPrice (in Rs)  333406 non-null  float64\n",
      " 8   OriginalPrice (in Rs)  452442 non-null  float64\n",
      " 9   DiscountOffer          452442 non-null  object \n",
      " 10  SizeOption             452442 non-null  object \n",
      " 11  Ratings                171048 non-null  float64\n",
      " 12  Reviews                171048 non-null  float64\n",
      "dtypes: float64(4), int64(1), object(8)\n",
      "memory usage: 48.3+ MB\n"
     ]
    }
   ],
   "source": [
    "data.info()"
   ]
  },
  {
   "cell_type": "markdown",
   "id": "dd833b54",
   "metadata": {},
   "source": [
    "# Fill DiscountPrice Columns"
   ]
  },
  {
   "cell_type": "code",
   "execution_count": 12,
   "id": "64d6f791",
   "metadata": {},
   "outputs": [
    {
     "data": {
      "text/html": [
       "<div>\n",
       "<style scoped>\n",
       "    .dataframe tbody tr th:only-of-type {\n",
       "        vertical-align: middle;\n",
       "    }\n",
       "\n",
       "    .dataframe tbody tr th {\n",
       "        vertical-align: top;\n",
       "    }\n",
       "\n",
       "    .dataframe thead th {\n",
       "        text-align: right;\n",
       "    }\n",
       "</style>\n",
       "<table border=\"1\" class=\"dataframe\">\n",
       "  <thead>\n",
       "    <tr style=\"text-align: right;\">\n",
       "      <th></th>\n",
       "      <th>URL</th>\n",
       "      <th>Product_id</th>\n",
       "      <th>BrandName</th>\n",
       "      <th>Category</th>\n",
       "      <th>Individual_category</th>\n",
       "      <th>category_by_Gender</th>\n",
       "      <th>Description</th>\n",
       "      <th>DiscountPrice (in Rs)</th>\n",
       "      <th>OriginalPrice (in Rs)</th>\n",
       "      <th>DiscountOffer</th>\n",
       "      <th>SizeOption</th>\n",
       "      <th>Ratings</th>\n",
       "      <th>Reviews</th>\n",
       "    </tr>\n",
       "  </thead>\n",
       "  <tbody>\n",
       "    <tr>\n",
       "      <th>0</th>\n",
       "      <td>https://www.myntra.com/jeans/roadster/roadster...</td>\n",
       "      <td>2296012</td>\n",
       "      <td>Roadster</td>\n",
       "      <td>Bottom Wear</td>\n",
       "      <td>jeans</td>\n",
       "      <td>Men</td>\n",
       "      <td>roadster men navy blue slim fit mid rise clean...</td>\n",
       "      <td>824.0</td>\n",
       "      <td>1499.0</td>\n",
       "      <td>45% OFF</td>\n",
       "      <td>28, 30, 32, 34, 36</td>\n",
       "      <td>3.9</td>\n",
       "      <td>999.0</td>\n",
       "    </tr>\n",
       "  </tbody>\n",
       "</table>\n",
       "</div>"
      ],
      "text/plain": [
       "                                                 URL  Product_id BrandName  \\\n",
       "0  https://www.myntra.com/jeans/roadster/roadster...     2296012  Roadster   \n",
       "\n",
       "      Category Individual_category category_by_Gender  \\\n",
       "0  Bottom Wear               jeans                Men   \n",
       "\n",
       "                                         Description  DiscountPrice (in Rs)  \\\n",
       "0  roadster men navy blue slim fit mid rise clean...                  824.0   \n",
       "\n",
       "   OriginalPrice (in Rs) DiscountOffer          SizeOption  Ratings  Reviews  \n",
       "0                 1499.0       45% OFF  28, 30, 32, 34, 36      3.9    999.0  "
      ]
     },
     "execution_count": 12,
     "metadata": {},
     "output_type": "execute_result"
    }
   ],
   "source": [
    "data.head(1)"
   ]
  },
  {
   "cell_type": "code",
   "execution_count": 13,
   "id": "7377803f",
   "metadata": {},
   "outputs": [],
   "source": [
    "# data.columns\n",
    "data['DiscountOfferNumber']=''\n"
   ]
  },
  {
   "cell_type": "code",
   "execution_count": 14,
   "id": "2d117ad6",
   "metadata": {},
   "outputs": [],
   "source": [
    "def UpdateFun(value):\n",
    "    if '%' in value:\n",
    "        return value.split('%')[0]\n",
    "    else:\n",
    "        return '0'"
   ]
  },
  {
   "cell_type": "code",
   "execution_count": 15,
   "id": "c9034735",
   "metadata": {},
   "outputs": [],
   "source": [
    "data['DiscountOfferNumber']=data['DiscountOffer'].apply(UpdateFun)"
   ]
  },
  {
   "cell_type": "code",
   "execution_count": 16,
   "id": "3ed1aa1d",
   "metadata": {},
   "outputs": [],
   "source": [
    "data['DiscountOfferNumber']=data['DiscountOfferNumber'].astype('float64')"
   ]
  },
  {
   "cell_type": "code",
   "execution_count": 17,
   "id": "c3f34258",
   "metadata": {},
   "outputs": [
    {
     "name": "stdout",
     "output_type": "stream",
     "text": [
      "<class 'pandas.core.frame.DataFrame'>\n",
      "Int64Index: 452442 entries, 0 to 510812\n",
      "Data columns (total 14 columns):\n",
      " #   Column                 Non-Null Count   Dtype  \n",
      "---  ------                 --------------   -----  \n",
      " 0   URL                    452442 non-null  object \n",
      " 1   Product_id             452442 non-null  int64  \n",
      " 2   BrandName              452442 non-null  object \n",
      " 3   Category               452442 non-null  object \n",
      " 4   Individual_category    452442 non-null  object \n",
      " 5   category_by_Gender     452442 non-null  object \n",
      " 6   Description            452442 non-null  object \n",
      " 7   DiscountPrice (in Rs)  333406 non-null  float64\n",
      " 8   OriginalPrice (in Rs)  452442 non-null  float64\n",
      " 9   DiscountOffer          452442 non-null  object \n",
      " 10  SizeOption             452442 non-null  object \n",
      " 11  Ratings                171048 non-null  float64\n",
      " 12  Reviews                171048 non-null  float64\n",
      " 13  DiscountOfferNumber    452442 non-null  float64\n",
      "dtypes: float64(5), int64(1), object(8)\n",
      "memory usage: 51.8+ MB\n"
     ]
    }
   ],
   "source": [
    "data.info()"
   ]
  },
  {
   "cell_type": "code",
   "execution_count": 18,
   "id": "fb83a92d",
   "metadata": {},
   "outputs": [],
   "source": [
    "def updationDiscountPrice(value):\n",
    "    if pd.isnull(value[0]):\n",
    "        svalue=abs((value[1]*float(value[2]))/100)\n",
    "        result=abs(value[1]-svalue)\n",
    "        return round(result)\n",
    "    else:\n",
    "        return value[0]"
   ]
  },
  {
   "cell_type": "code",
   "execution_count": 19,
   "id": "c9f6f8c8",
   "metadata": {},
   "outputs": [],
   "source": [
    "data['DiscountPrice (in Rs)']=data[['DiscountPrice (in Rs)','OriginalPrice (in Rs)','DiscountOfferNumber']].apply(updationDiscountPrice,axis=1)"
   ]
  },
  {
   "cell_type": "code",
   "execution_count": 20,
   "id": "787e45a2",
   "metadata": {},
   "outputs": [
    {
     "data": {
      "text/plain": [
       "URL                           0\n",
       "Product_id                    0\n",
       "BrandName                     0\n",
       "Category                      0\n",
       "Individual_category           0\n",
       "category_by_Gender            0\n",
       "Description                   0\n",
       "DiscountPrice (in Rs)         0\n",
       "OriginalPrice (in Rs)         0\n",
       "DiscountOffer                 0\n",
       "SizeOption                    0\n",
       "Ratings                  281394\n",
       "Reviews                  281394\n",
       "DiscountOfferNumber           0\n",
       "dtype: int64"
      ]
     },
     "execution_count": 20,
     "metadata": {},
     "output_type": "execute_result"
    }
   ],
   "source": [
    "data.isnull().sum()"
   ]
  },
  {
   "cell_type": "code",
   "execution_count": 21,
   "id": "c1d04080",
   "metadata": {},
   "outputs": [
    {
     "data": {
      "text/html": [
       "<div>\n",
       "<style scoped>\n",
       "    .dataframe tbody tr th:only-of-type {\n",
       "        vertical-align: middle;\n",
       "    }\n",
       "\n",
       "    .dataframe tbody tr th {\n",
       "        vertical-align: top;\n",
       "    }\n",
       "\n",
       "    .dataframe thead th {\n",
       "        text-align: right;\n",
       "    }\n",
       "</style>\n",
       "<table border=\"1\" class=\"dataframe\">\n",
       "  <thead>\n",
       "    <tr style=\"text-align: right;\">\n",
       "      <th></th>\n",
       "      <th>Product_id</th>\n",
       "      <th>DiscountPrice (in Rs)</th>\n",
       "      <th>OriginalPrice (in Rs)</th>\n",
       "      <th>Ratings</th>\n",
       "      <th>Reviews</th>\n",
       "      <th>DiscountOfferNumber</th>\n",
       "    </tr>\n",
       "  </thead>\n",
       "  <tbody>\n",
       "    <tr>\n",
       "      <th>count</th>\n",
       "      <td>4.524420e+05</td>\n",
       "      <td>452442.000000</td>\n",
       "      <td>452442.000000</td>\n",
       "      <td>171048.000000</td>\n",
       "      <td>171048.000000</td>\n",
       "      <td>452442.000000</td>\n",
       "    </tr>\n",
       "    <tr>\n",
       "      <th>mean</th>\n",
       "      <td>1.499652e+07</td>\n",
       "      <td>1206.374205</td>\n",
       "      <td>2480.468635</td>\n",
       "      <td>4.078881</td>\n",
       "      <td>62.213022</td>\n",
       "      <td>46.825978</td>\n",
       "    </tr>\n",
       "    <tr>\n",
       "      <th>std</th>\n",
       "      <td>3.167537e+06</td>\n",
       "      <td>1007.227744</td>\n",
       "      <td>1908.741895</td>\n",
       "      <td>0.493520</td>\n",
       "      <td>126.090257</td>\n",
       "      <td>20.637591</td>\n",
       "    </tr>\n",
       "    <tr>\n",
       "      <th>min</th>\n",
       "      <td>6.115400e+04</td>\n",
       "      <td>127.000000</td>\n",
       "      <td>129.000000</td>\n",
       "      <td>1.000000</td>\n",
       "      <td>0.000000</td>\n",
       "      <td>0.000000</td>\n",
       "    </tr>\n",
       "    <tr>\n",
       "      <th>25%</th>\n",
       "      <td>1.380096e+07</td>\n",
       "      <td>649.000000</td>\n",
       "      <td>1399.000000</td>\n",
       "      <td>3.900000</td>\n",
       "      <td>8.000000</td>\n",
       "      <td>32.000000</td>\n",
       "    </tr>\n",
       "    <tr>\n",
       "      <th>50%</th>\n",
       "      <td>1.584986e+07</td>\n",
       "      <td>918.000000</td>\n",
       "      <td>1999.000000</td>\n",
       "      <td>4.200000</td>\n",
       "      <td>19.000000</td>\n",
       "      <td>50.000000</td>\n",
       "    </tr>\n",
       "    <tr>\n",
       "      <th>75%</th>\n",
       "      <td>1.724040e+07</td>\n",
       "      <td>1421.000000</td>\n",
       "      <td>2999.000000</td>\n",
       "      <td>4.400000</td>\n",
       "      <td>52.000000</td>\n",
       "      <td>62.000000</td>\n",
       "    </tr>\n",
       "    <tr>\n",
       "      <th>max</th>\n",
       "      <td>1.846020e+07</td>\n",
       "      <td>29999.000000</td>\n",
       "      <td>45000.000000</td>\n",
       "      <td>5.000000</td>\n",
       "      <td>999.000000</td>\n",
       "      <td>90.000000</td>\n",
       "    </tr>\n",
       "  </tbody>\n",
       "</table>\n",
       "</div>"
      ],
      "text/plain": [
       "         Product_id  DiscountPrice (in Rs)  OriginalPrice (in Rs)  \\\n",
       "count  4.524420e+05          452442.000000          452442.000000   \n",
       "mean   1.499652e+07            1206.374205            2480.468635   \n",
       "std    3.167537e+06            1007.227744            1908.741895   \n",
       "min    6.115400e+04             127.000000             129.000000   \n",
       "25%    1.380096e+07             649.000000            1399.000000   \n",
       "50%    1.584986e+07             918.000000            1999.000000   \n",
       "75%    1.724040e+07            1421.000000            2999.000000   \n",
       "max    1.846020e+07           29999.000000           45000.000000   \n",
       "\n",
       "             Ratings        Reviews  DiscountOfferNumber  \n",
       "count  171048.000000  171048.000000        452442.000000  \n",
       "mean        4.078881      62.213022            46.825978  \n",
       "std         0.493520     126.090257            20.637591  \n",
       "min         1.000000       0.000000             0.000000  \n",
       "25%         3.900000       8.000000            32.000000  \n",
       "50%         4.200000      19.000000            50.000000  \n",
       "75%         4.400000      52.000000            62.000000  \n",
       "max         5.000000     999.000000            90.000000  "
      ]
     },
     "execution_count": 21,
     "metadata": {},
     "output_type": "execute_result"
    }
   ],
   "source": [
    "data.describe()"
   ]
  },
  {
   "cell_type": "code",
   "execution_count": 22,
   "id": "2ad43842",
   "metadata": {},
   "outputs": [
    {
     "data": {
      "text/plain": [
       "URL                           0\n",
       "Product_id                    0\n",
       "BrandName                     0\n",
       "Category                      0\n",
       "Individual_category           0\n",
       "category_by_Gender            0\n",
       "Description                   0\n",
       "DiscountPrice (in Rs)         0\n",
       "OriginalPrice (in Rs)         0\n",
       "DiscountOffer                 0\n",
       "SizeOption                    0\n",
       "Ratings                  281394\n",
       "Reviews                  281394\n",
       "DiscountOfferNumber           0\n",
       "dtype: int64"
      ]
     },
     "execution_count": 22,
     "metadata": {},
     "output_type": "execute_result"
    }
   ],
   "source": [
    "data.isnull().sum()"
   ]
  },
  {
   "cell_type": "code",
   "execution_count": 23,
   "id": "a27df353",
   "metadata": {},
   "outputs": [],
   "source": [
    "data['Ratings'].fillna(data.groupby(['Category','Individual_category','category_by_Gender'])['Ratings'].transform('median'),inplace=True)"
   ]
  },
  {
   "cell_type": "code",
   "execution_count": 24,
   "id": "65537569",
   "metadata": {},
   "outputs": [],
   "source": [
    "data['Reviews'].fillna(data.groupby(['Category','Individual_category','category_by_Gender'])['Reviews'].transform('median'),inplace=True)"
   ]
  },
  {
   "cell_type": "code",
   "execution_count": 25,
   "id": "ce7fb06a",
   "metadata": {},
   "outputs": [
    {
     "data": {
      "text/plain": [
       "URL                        0\n",
       "Product_id                 0\n",
       "BrandName                  0\n",
       "Category                   0\n",
       "Individual_category        0\n",
       "category_by_Gender         0\n",
       "Description                0\n",
       "DiscountPrice (in Rs)      0\n",
       "OriginalPrice (in Rs)      0\n",
       "DiscountOffer              0\n",
       "SizeOption                 0\n",
       "Ratings                  161\n",
       "Reviews                  161\n",
       "DiscountOfferNumber        0\n",
       "dtype: int64"
      ]
     },
     "execution_count": 25,
     "metadata": {},
     "output_type": "execute_result"
    }
   ],
   "source": [
    "data.isnull().sum()"
   ]
  },
  {
   "cell_type": "code",
   "execution_count": 50,
   "id": "7945268c",
   "metadata": {},
   "outputs": [
    {
     "data": {
      "text/plain": [
       "(452281, 16)"
      ]
     },
     "execution_count": 50,
     "metadata": {},
     "output_type": "execute_result"
    }
   ],
   "source": [
    "data.shape"
   ]
  },
  {
   "cell_type": "code",
   "execution_count": 51,
   "id": "b37b2c3e",
   "metadata": {},
   "outputs": [],
   "source": [
    "data.dropna(inplace=True)"
   ]
  },
  {
   "cell_type": "code",
   "execution_count": 52,
   "id": "81adf1e2",
   "metadata": {},
   "outputs": [
    {
     "data": {
      "text/plain": [
       "URL                      0\n",
       "Product_id               0\n",
       "BrandName                0\n",
       "Category                 0\n",
       "Individual_category      0\n",
       "category_by_Gender       0\n",
       "Description              0\n",
       "DiscountPrice (in Rs)    0\n",
       "OriginalPrice (in Rs)    0\n",
       "DiscountOffer            0\n",
       "SizeOption               0\n",
       "Ratings                  0\n",
       "Reviews                  0\n",
       "DiscountOfferNumber      0\n",
       "discountPrice            0\n",
       "disno                    0\n",
       "dtype: int64"
      ]
     },
     "execution_count": 52,
     "metadata": {},
     "output_type": "execute_result"
    }
   ],
   "source": [
    "data.isnull().sum()"
   ]
  },
  {
   "cell_type": "code",
   "execution_count": 53,
   "id": "0a569081",
   "metadata": {},
   "outputs": [
    {
     "data": {
      "text/html": [
       "<div>\n",
       "<style scoped>\n",
       "    .dataframe tbody tr th:only-of-type {\n",
       "        vertical-align: middle;\n",
       "    }\n",
       "\n",
       "    .dataframe tbody tr th {\n",
       "        vertical-align: top;\n",
       "    }\n",
       "\n",
       "    .dataframe thead th {\n",
       "        text-align: right;\n",
       "    }\n",
       "</style>\n",
       "<table border=\"1\" class=\"dataframe\">\n",
       "  <thead>\n",
       "    <tr style=\"text-align: right;\">\n",
       "      <th></th>\n",
       "      <th>URL</th>\n",
       "      <th>Product_id</th>\n",
       "      <th>BrandName</th>\n",
       "      <th>Category</th>\n",
       "      <th>Individual_category</th>\n",
       "      <th>category_by_Gender</th>\n",
       "      <th>Description</th>\n",
       "      <th>DiscountPrice (in Rs)</th>\n",
       "      <th>OriginalPrice (in Rs)</th>\n",
       "      <th>DiscountOffer</th>\n",
       "      <th>SizeOption</th>\n",
       "      <th>Ratings</th>\n",
       "      <th>Reviews</th>\n",
       "      <th>DiscountOfferNumber</th>\n",
       "      <th>discountPrice</th>\n",
       "      <th>disno</th>\n",
       "    </tr>\n",
       "  </thead>\n",
       "  <tbody>\n",
       "    <tr>\n",
       "      <th>0</th>\n",
       "      <td>https://www.myntra.com/jeans/roadster/roadster...</td>\n",
       "      <td>2296012</td>\n",
       "      <td>Roadster</td>\n",
       "      <td>Bottom Wear</td>\n",
       "      <td>jeans</td>\n",
       "      <td>Men</td>\n",
       "      <td>roadster men navy blue slim fit mid rise clean...</td>\n",
       "      <td>824.0</td>\n",
       "      <td>1499.0</td>\n",
       "      <td>45% OFF</td>\n",
       "      <td>28, 30, 32, 34, 36</td>\n",
       "      <td>3.9</td>\n",
       "      <td>999.0</td>\n",
       "      <td>45.0</td>\n",
       "      <td></td>\n",
       "      <td>45</td>\n",
       "    </tr>\n",
       "    <tr>\n",
       "      <th>1</th>\n",
       "      <td>https://www.myntra.com/track-pants/locomotive/...</td>\n",
       "      <td>13780156</td>\n",
       "      <td>LOCOMOTIVE</td>\n",
       "      <td>Bottom Wear</td>\n",
       "      <td>track-pants</td>\n",
       "      <td>Men</td>\n",
       "      <td>locomotive men black  white solid slim fit tra...</td>\n",
       "      <td>517.0</td>\n",
       "      <td>1149.0</td>\n",
       "      <td>55% OFF</td>\n",
       "      <td>S, M, L, XL</td>\n",
       "      <td>4.0</td>\n",
       "      <td>999.0</td>\n",
       "      <td>55.0</td>\n",
       "      <td></td>\n",
       "      <td>55</td>\n",
       "    </tr>\n",
       "    <tr>\n",
       "      <th>2</th>\n",
       "      <td>https://www.myntra.com/shirts/roadster/roadste...</td>\n",
       "      <td>11895958</td>\n",
       "      <td>Roadster</td>\n",
       "      <td>Topwear</td>\n",
       "      <td>shirts</td>\n",
       "      <td>Men</td>\n",
       "      <td>roadster men navy white  black geometric print...</td>\n",
       "      <td>629.0</td>\n",
       "      <td>1399.0</td>\n",
       "      <td>55% OFF</td>\n",
       "      <td>38, 40, 42, 44, 46, 48</td>\n",
       "      <td>4.3</td>\n",
       "      <td>999.0</td>\n",
       "      <td>55.0</td>\n",
       "      <td></td>\n",
       "      <td>55</td>\n",
       "    </tr>\n",
       "    <tr>\n",
       "      <th>3</th>\n",
       "      <td>https://www.myntra.com/shapewear/zivame/zivame...</td>\n",
       "      <td>4335679</td>\n",
       "      <td>Zivame</td>\n",
       "      <td>Lingerie &amp; Sleep Wear</td>\n",
       "      <td>shapewear</td>\n",
       "      <td>Women</td>\n",
       "      <td>zivame women black saree shapewear zi3023core0...</td>\n",
       "      <td>893.0</td>\n",
       "      <td>1295.0</td>\n",
       "      <td>31% OFF</td>\n",
       "      <td>S, M, L, XL, XXL</td>\n",
       "      <td>4.2</td>\n",
       "      <td>999.0</td>\n",
       "      <td>31.0</td>\n",
       "      <td></td>\n",
       "      <td>31</td>\n",
       "    </tr>\n",
       "    <tr>\n",
       "      <th>4</th>\n",
       "      <td>https://www.myntra.com/tshirts/roadster/roadst...</td>\n",
       "      <td>11690882</td>\n",
       "      <td>Roadster</td>\n",
       "      <td>Western</td>\n",
       "      <td>tshirts</td>\n",
       "      <td>Women</td>\n",
       "      <td>roadster women white solid v neck pure cotton ...</td>\n",
       "      <td>389.0</td>\n",
       "      <td>599.0</td>\n",
       "      <td>35% OFF</td>\n",
       "      <td>XS, S, M, L, XL</td>\n",
       "      <td>4.2</td>\n",
       "      <td>999.0</td>\n",
       "      <td>35.0</td>\n",
       "      <td></td>\n",
       "      <td>35</td>\n",
       "    </tr>\n",
       "  </tbody>\n",
       "</table>\n",
       "</div>"
      ],
      "text/plain": [
       "                                                 URL  Product_id   BrandName  \\\n",
       "0  https://www.myntra.com/jeans/roadster/roadster...     2296012    Roadster   \n",
       "1  https://www.myntra.com/track-pants/locomotive/...    13780156  LOCOMOTIVE   \n",
       "2  https://www.myntra.com/shirts/roadster/roadste...    11895958    Roadster   \n",
       "3  https://www.myntra.com/shapewear/zivame/zivame...     4335679      Zivame   \n",
       "4  https://www.myntra.com/tshirts/roadster/roadst...    11690882    Roadster   \n",
       "\n",
       "                Category Individual_category category_by_Gender  \\\n",
       "0            Bottom Wear               jeans                Men   \n",
       "1            Bottom Wear         track-pants                Men   \n",
       "2                Topwear              shirts                Men   \n",
       "3  Lingerie & Sleep Wear           shapewear              Women   \n",
       "4                Western             tshirts              Women   \n",
       "\n",
       "                                         Description  DiscountPrice (in Rs)  \\\n",
       "0  roadster men navy blue slim fit mid rise clean...                  824.0   \n",
       "1  locomotive men black  white solid slim fit tra...                  517.0   \n",
       "2  roadster men navy white  black geometric print...                  629.0   \n",
       "3  zivame women black saree shapewear zi3023core0...                  893.0   \n",
       "4  roadster women white solid v neck pure cotton ...                  389.0   \n",
       "\n",
       "   OriginalPrice (in Rs) DiscountOffer              SizeOption  Ratings  \\\n",
       "0                 1499.0       45% OFF      28, 30, 32, 34, 36      3.9   \n",
       "1                 1149.0       55% OFF             S, M, L, XL      4.0   \n",
       "2                 1399.0       55% OFF  38, 40, 42, 44, 46, 48      4.3   \n",
       "3                 1295.0       31% OFF        S, M, L, XL, XXL      4.2   \n",
       "4                  599.0       35% OFF         XS, S, M, L, XL      4.2   \n",
       "\n",
       "   Reviews  DiscountOfferNumber discountPrice disno  \n",
       "0    999.0                 45.0                  45  \n",
       "1    999.0                 55.0                  55  \n",
       "2    999.0                 55.0                  55  \n",
       "3    999.0                 31.0                  31  \n",
       "4    999.0                 35.0                  35  "
      ]
     },
     "execution_count": 53,
     "metadata": {},
     "output_type": "execute_result"
    }
   ],
   "source": [
    "data.head()"
   ]
  },
  {
   "cell_type": "code",
   "execution_count": 58,
   "id": "dee7fecb",
   "metadata": {},
   "outputs": [
    {
     "data": {
      "text/plain": [
       "(452281, 14)"
      ]
     },
     "execution_count": 58,
     "metadata": {},
     "output_type": "execute_result"
    }
   ],
   "source": [
    "data.shape"
   ]
  },
  {
   "cell_type": "code",
   "execution_count": 2,
   "id": "90efe54f",
   "metadata": {},
   "outputs": [
    {
     "ename": "NameError",
     "evalue": "name 'data' is not defined",
     "output_type": "error",
     "traceback": [
      "\u001b[1;31m---------------------------------------------------------------------------\u001b[0m",
      "\u001b[1;31mNameError\u001b[0m                                 Traceback (most recent call last)",
      "\u001b[1;32m~\\AppData\\Local\\Temp\\ipykernel_3568\\3393686370.py\u001b[0m in \u001b[0;36m<module>\u001b[1;34m\u001b[0m\n\u001b[1;32m----> 1\u001b[1;33m \u001b[0mdata\u001b[0m\u001b[1;33m.\u001b[0m\u001b[0mto_csv\u001b[0m\u001b[1;33m(\u001b[0m\u001b[1;34mr\"C:\\Users\\NaveenGupta\\Desktop\\New folder/Myntra.csv\"\u001b[0m\u001b[1;33m,\u001b[0m\u001b[0mindex\u001b[0m\u001b[1;33m=\u001b[0m\u001b[1;32mFalse\u001b[0m\u001b[1;33m)\u001b[0m\u001b[1;33m\u001b[0m\u001b[1;33m\u001b[0m\u001b[0m\n\u001b[0m",
      "\u001b[1;31mNameError\u001b[0m: name 'data' is not defined"
     ]
    }
   ],
   "source": [
    "data.to_csv(r\"C:\\Users\\NaveenGupta\\Desktop\\New folder/Myntra.csv\",index=False)"
   ]
  },
  {
   "cell_type": "markdown",
   "id": "d53e6537",
   "metadata": {},
   "source": [
    "# Import Cleaned Csv File"
   ]
  },
  {
   "cell_type": "code",
   "execution_count": 5,
   "id": "5a2c16b1",
   "metadata": {},
   "outputs": [],
   "source": [
    "import matplotlib.pyplot as plt\n",
    "import seaborn as sns"
   ]
  },
  {
   "cell_type": "code",
   "execution_count": 6,
   "id": "70512dc9",
   "metadata": {},
   "outputs": [],
   "source": [
    "mydata=pd.read_csv(r\"C:\\Users\\NaveenGupta\\Desktop\\New folder/Myntra.csv\")"
   ]
  },
  {
   "cell_type": "code",
   "execution_count": 7,
   "id": "aebb205c",
   "metadata": {},
   "outputs": [
    {
     "data": {
      "text/html": [
       "<div>\n",
       "<style scoped>\n",
       "    .dataframe tbody tr th:only-of-type {\n",
       "        vertical-align: middle;\n",
       "    }\n",
       "\n",
       "    .dataframe tbody tr th {\n",
       "        vertical-align: top;\n",
       "    }\n",
       "\n",
       "    .dataframe thead th {\n",
       "        text-align: right;\n",
       "    }\n",
       "</style>\n",
       "<table border=\"1\" class=\"dataframe\">\n",
       "  <thead>\n",
       "    <tr style=\"text-align: right;\">\n",
       "      <th></th>\n",
       "      <th>URL</th>\n",
       "      <th>Product_id</th>\n",
       "      <th>BrandName</th>\n",
       "      <th>Category</th>\n",
       "      <th>Individual_category</th>\n",
       "      <th>category_by_Gender</th>\n",
       "      <th>Description</th>\n",
       "      <th>DiscountPrice (in Rs)</th>\n",
       "      <th>OriginalPrice (in Rs)</th>\n",
       "      <th>DiscountOffer</th>\n",
       "      <th>SizeOption</th>\n",
       "      <th>Ratings</th>\n",
       "      <th>Reviews</th>\n",
       "      <th>DiscountOfferNumber</th>\n",
       "    </tr>\n",
       "  </thead>\n",
       "  <tbody>\n",
       "    <tr>\n",
       "      <th>0</th>\n",
       "      <td>https://www.myntra.com/jeans/roadster/roadster...</td>\n",
       "      <td>2296012</td>\n",
       "      <td>Roadster</td>\n",
       "      <td>Bottom Wear</td>\n",
       "      <td>jeans</td>\n",
       "      <td>Men</td>\n",
       "      <td>roadster men navy blue slim fit mid rise clean...</td>\n",
       "      <td>824.0</td>\n",
       "      <td>1499.0</td>\n",
       "      <td>45% OFF</td>\n",
       "      <td>28, 30, 32, 34, 36</td>\n",
       "      <td>3.9</td>\n",
       "      <td>999.0</td>\n",
       "      <td>45.0</td>\n",
       "    </tr>\n",
       "    <tr>\n",
       "      <th>1</th>\n",
       "      <td>https://www.myntra.com/track-pants/locomotive/...</td>\n",
       "      <td>13780156</td>\n",
       "      <td>LOCOMOTIVE</td>\n",
       "      <td>Bottom Wear</td>\n",
       "      <td>track-pants</td>\n",
       "      <td>Men</td>\n",
       "      <td>locomotive men black  white solid slim fit tra...</td>\n",
       "      <td>517.0</td>\n",
       "      <td>1149.0</td>\n",
       "      <td>55% OFF</td>\n",
       "      <td>S, M, L, XL</td>\n",
       "      <td>4.0</td>\n",
       "      <td>999.0</td>\n",
       "      <td>55.0</td>\n",
       "    </tr>\n",
       "  </tbody>\n",
       "</table>\n",
       "</div>"
      ],
      "text/plain": [
       "                                                 URL  Product_id   BrandName  \\\n",
       "0  https://www.myntra.com/jeans/roadster/roadster...     2296012    Roadster   \n",
       "1  https://www.myntra.com/track-pants/locomotive/...    13780156  LOCOMOTIVE   \n",
       "\n",
       "      Category Individual_category category_by_Gender  \\\n",
       "0  Bottom Wear               jeans                Men   \n",
       "1  Bottom Wear         track-pants                Men   \n",
       "\n",
       "                                         Description  DiscountPrice (in Rs)  \\\n",
       "0  roadster men navy blue slim fit mid rise clean...                  824.0   \n",
       "1  locomotive men black  white solid slim fit tra...                  517.0   \n",
       "\n",
       "   OriginalPrice (in Rs) DiscountOffer          SizeOption  Ratings  Reviews  \\\n",
       "0                 1499.0       45% OFF  28, 30, 32, 34, 36      3.9    999.0   \n",
       "1                 1149.0       55% OFF         S, M, L, XL      4.0    999.0   \n",
       "\n",
       "   DiscountOfferNumber  \n",
       "0                 45.0  \n",
       "1                 55.0  "
      ]
     },
     "execution_count": 7,
     "metadata": {},
     "output_type": "execute_result"
    }
   ],
   "source": [
    "mydata.head(2)"
   ]
  },
  {
   "cell_type": "code",
   "execution_count": 8,
   "id": "01bafc5e",
   "metadata": {},
   "outputs": [
    {
     "data": {
      "text/plain": [
       "URL                      0\n",
       "Product_id               0\n",
       "BrandName                0\n",
       "Category                 0\n",
       "Individual_category      0\n",
       "category_by_Gender       0\n",
       "Description              0\n",
       "DiscountPrice (in Rs)    0\n",
       "OriginalPrice (in Rs)    0\n",
       "DiscountOffer            0\n",
       "SizeOption               0\n",
       "Ratings                  0\n",
       "Reviews                  0\n",
       "DiscountOfferNumber      0\n",
       "dtype: int64"
      ]
     },
     "execution_count": 8,
     "metadata": {},
     "output_type": "execute_result"
    }
   ],
   "source": [
    "mydata.isnull().sum()"
   ]
  },
  {
   "cell_type": "markdown",
   "id": "fe7f9df9",
   "metadata": {},
   "source": [
    "# Find Men and Women percentage according to category wise"
   ]
  },
  {
   "cell_type": "code",
   "execution_count": 9,
   "id": "1ac40edd",
   "metadata": {},
   "outputs": [],
   "source": [
    "a=mydata.groupby(['Category','category_by_Gender']).category_by_Gender.count()"
   ]
  },
  {
   "cell_type": "code",
   "execution_count": 10,
   "id": "15283e51",
   "metadata": {},
   "outputs": [
    {
     "data": {
      "text/plain": [
       "Category                  category_by_Gender\n",
       "Bottom Wear               Men                    45279\n",
       "Indian Wear               Men                    23861\n",
       "                          Women                 112300\n",
       "Inner Wear &  Sleep Wear  Men                    15090\n",
       "Lingerie & Sleep Wear     Women                  45431\n",
       "Plus Size                 Men                     1528\n",
       "                          Women                  11318\n",
       "Sports Wear               Men                     7633\n",
       "                          Women                   9439\n",
       "Topwear                   Men                    61319\n",
       "Western                   Women                 119083\n",
       "Name: category_by_Gender, dtype: int64"
      ]
     },
     "execution_count": 10,
     "metadata": {},
     "output_type": "execute_result"
    }
   ],
   "source": [
    "a"
   ]
  },
  {
   "cell_type": "code",
   "execution_count": 11,
   "id": "6dc09c4f",
   "metadata": {},
   "outputs": [
    {
     "data": {
      "text/plain": [
       "Category\n",
       "Bottom Wear                  45279\n",
       "Indian Wear                 136161\n",
       "Inner Wear &  Sleep Wear     15090\n",
       "Lingerie & Sleep Wear        45431\n",
       "Plus Size                    12846\n",
       "Sports Wear                  17072\n",
       "Topwear                      61319\n",
       "Western                     119083\n",
       "Name: category_by_Gender, dtype: int64"
      ]
     },
     "execution_count": 11,
     "metadata": {},
     "output_type": "execute_result"
    }
   ],
   "source": [
    "b=mydata.groupby('Category').category_by_Gender.count()\n",
    "b"
   ]
  },
  {
   "cell_type": "code",
   "execution_count": 12,
   "id": "708c357b",
   "metadata": {},
   "outputs": [],
   "source": [
    "c=(a/b)*100"
   ]
  },
  {
   "cell_type": "code",
   "execution_count": 13,
   "id": "15a63002",
   "metadata": {},
   "outputs": [
    {
     "data": {
      "text/plain": [
       "Category                  category_by_Gender\n",
       "Bottom Wear               Men                   100.000000\n",
       "Indian Wear               Men                    17.524107\n",
       "                          Women                  82.475893\n",
       "Inner Wear &  Sleep Wear  Men                   100.000000\n",
       "Lingerie & Sleep Wear     Women                 100.000000\n",
       "Plus Size                 Men                    11.894753\n",
       "                          Women                  88.105247\n",
       "Sports Wear               Men                    44.710637\n",
       "                          Women                  55.289363\n",
       "Topwear                   Men                   100.000000\n",
       "Western                   Women                 100.000000\n",
       "Name: category_by_Gender, dtype: float64"
      ]
     },
     "execution_count": 13,
     "metadata": {},
     "output_type": "execute_result"
    }
   ],
   "source": [
    "c"
   ]
  },
  {
   "cell_type": "code",
   "execution_count": 14,
   "id": "0579c8e1",
   "metadata": {},
   "outputs": [
    {
     "data": {
      "text/plain": [
       "Category\n",
       "Bottom Wear                 100.000000\n",
       "Inner Wear &  Sleep Wear    100.000000\n",
       "Topwear                     100.000000\n",
       "Sports Wear                  44.710637\n",
       "Indian Wear                  17.524107\n",
       "Plus Size                    11.894753\n",
       "Name: category_by_Gender, dtype: float64"
      ]
     },
     "execution_count": 14,
     "metadata": {},
     "output_type": "execute_result"
    }
   ],
   "source": [
    "c.sort_values(ascending=False).xs('Men',level=1)"
   ]
  },
  {
   "cell_type": "markdown",
   "id": "635b1ab0",
   "metadata": {},
   "source": [
    "# Which Brand is in demand"
   ]
  },
  {
   "cell_type": "code",
   "execution_count": 15,
   "id": "97df5604",
   "metadata": {},
   "outputs": [
    {
     "data": {
      "text/plain": [
       "Index(['URL', 'Product_id', 'BrandName', 'Category', 'Individual_category',\n",
       "       'category_by_Gender', 'Description', 'DiscountPrice (in Rs)',\n",
       "       'OriginalPrice (in Rs)', 'DiscountOffer', 'SizeOption', 'Ratings',\n",
       "       'Reviews', 'DiscountOfferNumber'],\n",
       "      dtype='object')"
      ]
     },
     "execution_count": 15,
     "metadata": {},
     "output_type": "execute_result"
    }
   ],
   "source": [
    "mydata.columns"
   ]
  },
  {
   "cell_type": "code",
   "execution_count": 16,
   "id": "b2093169",
   "metadata": {},
   "outputs": [
    {
     "data": {
      "text/plain": [
       "array(['Bottom Wear', 'Topwear', 'Lingerie & Sleep Wear', 'Western',\n",
       "       'Sports Wear', 'Indian Wear', 'Plus Size',\n",
       "       'Inner Wear &  Sleep Wear'], dtype=object)"
      ]
     },
     "execution_count": 16,
     "metadata": {},
     "output_type": "execute_result"
    }
   ],
   "source": [
    "mydata['Category'].unique()"
   ]
  },
  {
   "cell_type": "code",
   "execution_count": 17,
   "id": "65277495",
   "metadata": {},
   "outputs": [
    {
     "data": {
      "text/plain": [
       "BrandName          Category   \n",
       "Pothys             Indian Wear    15572\n",
       "KALINI             Indian Wear     9421\n",
       "Roadster           Western         5764\n",
       "Ethnic basket      Indian Wear     4758\n",
       "Mitera             Indian Wear     4657\n",
       "                                  ...  \n",
       "Hubberholme        Indian Wear        1\n",
       "Dennis Morton      Indian Wear        1\n",
       "UrGear             Sports Wear        1\n",
       "Allen Solly Woman  Indian Wear        1\n",
       "Do Dhaage          Western            1\n",
       "Name: Category, Length: 3963, dtype: int64"
      ]
     },
     "execution_count": 17,
     "metadata": {},
     "output_type": "execute_result"
    }
   ],
   "source": [
    "mydata.groupby(['BrandName']).Category.value_counts().sort_values(ascending=False)"
   ]
  },
  {
   "cell_type": "code",
   "execution_count": 18,
   "id": "1052c081",
   "metadata": {},
   "outputs": [],
   "source": [
    "# So Most Demanded Brand is Pothys and the Second Highest Brand is KALINI"
   ]
  },
  {
   "cell_type": "code",
   "execution_count": 19,
   "id": "7e555e23",
   "metadata": {},
   "outputs": [
    {
     "data": {
      "text/plain": [
       "Category                  Category                \n",
       "Indian Wear               Indian Wear                 136161\n",
       "Western                   Western                     119083\n",
       "Topwear                   Topwear                      61319\n",
       "Lingerie & Sleep Wear     Lingerie & Sleep Wear        45431\n",
       "Bottom Wear               Bottom Wear                  45279\n",
       "Sports Wear               Sports Wear                  17072\n",
       "Inner Wear &  Sleep Wear  Inner Wear &  Sleep Wear     15090\n",
       "Plus Size                 Plus Size                    12846\n",
       "Name: Category, dtype: int64"
      ]
     },
     "execution_count": 19,
     "metadata": {},
     "output_type": "execute_result"
    }
   ],
   "source": [
    "mydata.groupby('Category').Category.value_counts().sort_values(ascending=False)"
   ]
  },
  {
   "cell_type": "code",
   "execution_count": 20,
   "id": "335cc7f8",
   "metadata": {},
   "outputs": [],
   "source": [
    "# Highest Category is Indian Wear and Second Highest is Western"
   ]
  },
  {
   "cell_type": "markdown",
   "id": "45eedbef",
   "metadata": {},
   "source": [
    "# By gender which category in demanded"
   ]
  },
  {
   "cell_type": "code",
   "execution_count": 21,
   "id": "0fb09aec",
   "metadata": {},
   "outputs": [
    {
     "data": {
      "text/plain": [
       "Index(['URL', 'Product_id', 'BrandName', 'Category', 'Individual_category',\n",
       "       'category_by_Gender', 'Description', 'DiscountPrice (in Rs)',\n",
       "       'OriginalPrice (in Rs)', 'DiscountOffer', 'SizeOption', 'Ratings',\n",
       "       'Reviews', 'DiscountOfferNumber'],\n",
       "      dtype='object')"
      ]
     },
     "execution_count": 21,
     "metadata": {},
     "output_type": "execute_result"
    }
   ],
   "source": [
    "mydata.columns"
   ]
  },
  {
   "cell_type": "code",
   "execution_count": 22,
   "id": "062c4b6e",
   "metadata": {},
   "outputs": [
    {
     "data": {
      "text/plain": [
       "Category                  category_by_Gender\n",
       "Topwear                   Men                   61319\n",
       "Bottom Wear               Men                   45279\n",
       "Indian Wear               Men                   23861\n",
       "Inner Wear &  Sleep Wear  Men                   15090\n",
       "Sports Wear               Men                    7633\n",
       "Plus Size                 Men                    1528\n",
       "Name: category_by_Gender, dtype: int64"
      ]
     },
     "execution_count": 22,
     "metadata": {},
     "output_type": "execute_result"
    }
   ],
   "source": [
    "mydata.groupby(['Category','category_by_Gender']).category_by_Gender.value_counts().sort_values(ascending=False).xs('Men',level=1)"
   ]
  },
  {
   "cell_type": "code",
   "execution_count": 23,
   "id": "f6161865",
   "metadata": {},
   "outputs": [
    {
     "data": {
      "text/plain": [
       "Category               category_by_Gender\n",
       "Western                Women                 119083\n",
       "Indian Wear            Women                 112300\n",
       "Lingerie & Sleep Wear  Women                  45431\n",
       "Plus Size              Women                  11318\n",
       "Sports Wear            Women                   9439\n",
       "Name: category_by_Gender, dtype: int64"
      ]
     },
     "execution_count": 23,
     "metadata": {},
     "output_type": "execute_result"
    }
   ],
   "source": [
    "mydata.groupby(['Category','category_by_Gender']).category_by_Gender.value_counts().sort_values(ascending=False).xs('Women',level=1)"
   ]
  },
  {
   "cell_type": "code",
   "execution_count": 24,
   "id": "cb71d65d",
   "metadata": {},
   "outputs": [],
   "source": [
    "# According to Gender Highest category is Demanded in \"WESTERN\" by Women\n",
    "# According to Gender Highest category is Demanded in \"TOPWEAR\" by men"
   ]
  },
  {
   "cell_type": "code",
   "execution_count": 25,
   "id": "ef0d6555",
   "metadata": {},
   "outputs": [
    {
     "data": {
      "text/html": [
       "<div>\n",
       "<style scoped>\n",
       "    .dataframe tbody tr th:only-of-type {\n",
       "        vertical-align: middle;\n",
       "    }\n",
       "\n",
       "    .dataframe tbody tr th {\n",
       "        vertical-align: top;\n",
       "    }\n",
       "\n",
       "    .dataframe thead th {\n",
       "        text-align: right;\n",
       "    }\n",
       "</style>\n",
       "<table border=\"1\" class=\"dataframe\">\n",
       "  <thead>\n",
       "    <tr style=\"text-align: right;\">\n",
       "      <th></th>\n",
       "      <th>URL</th>\n",
       "      <th>Product_id</th>\n",
       "      <th>BrandName</th>\n",
       "      <th>Category</th>\n",
       "      <th>Individual_category</th>\n",
       "      <th>category_by_Gender</th>\n",
       "      <th>Description</th>\n",
       "      <th>DiscountPrice (in Rs)</th>\n",
       "      <th>OriginalPrice (in Rs)</th>\n",
       "      <th>DiscountOffer</th>\n",
       "      <th>SizeOption</th>\n",
       "      <th>Ratings</th>\n",
       "      <th>Reviews</th>\n",
       "      <th>DiscountOfferNumber</th>\n",
       "    </tr>\n",
       "  </thead>\n",
       "  <tbody>\n",
       "    <tr>\n",
       "      <th>0</th>\n",
       "      <td>https://www.myntra.com/jeans/roadster/roadster...</td>\n",
       "      <td>2296012</td>\n",
       "      <td>Roadster</td>\n",
       "      <td>Bottom Wear</td>\n",
       "      <td>jeans</td>\n",
       "      <td>Men</td>\n",
       "      <td>roadster men navy blue slim fit mid rise clean...</td>\n",
       "      <td>824.0</td>\n",
       "      <td>1499.0</td>\n",
       "      <td>45% OFF</td>\n",
       "      <td>28, 30, 32, 34, 36</td>\n",
       "      <td>3.9</td>\n",
       "      <td>999.0</td>\n",
       "      <td>45.0</td>\n",
       "    </tr>\n",
       "    <tr>\n",
       "      <th>1</th>\n",
       "      <td>https://www.myntra.com/track-pants/locomotive/...</td>\n",
       "      <td>13780156</td>\n",
       "      <td>LOCOMOTIVE</td>\n",
       "      <td>Bottom Wear</td>\n",
       "      <td>track-pants</td>\n",
       "      <td>Men</td>\n",
       "      <td>locomotive men black  white solid slim fit tra...</td>\n",
       "      <td>517.0</td>\n",
       "      <td>1149.0</td>\n",
       "      <td>55% OFF</td>\n",
       "      <td>S, M, L, XL</td>\n",
       "      <td>4.0</td>\n",
       "      <td>999.0</td>\n",
       "      <td>55.0</td>\n",
       "    </tr>\n",
       "  </tbody>\n",
       "</table>\n",
       "</div>"
      ],
      "text/plain": [
       "                                                 URL  Product_id   BrandName  \\\n",
       "0  https://www.myntra.com/jeans/roadster/roadster...     2296012    Roadster   \n",
       "1  https://www.myntra.com/track-pants/locomotive/...    13780156  LOCOMOTIVE   \n",
       "\n",
       "      Category Individual_category category_by_Gender  \\\n",
       "0  Bottom Wear               jeans                Men   \n",
       "1  Bottom Wear         track-pants                Men   \n",
       "\n",
       "                                         Description  DiscountPrice (in Rs)  \\\n",
       "0  roadster men navy blue slim fit mid rise clean...                  824.0   \n",
       "1  locomotive men black  white solid slim fit tra...                  517.0   \n",
       "\n",
       "   OriginalPrice (in Rs) DiscountOffer          SizeOption  Ratings  Reviews  \\\n",
       "0                 1499.0       45% OFF  28, 30, 32, 34, 36      3.9    999.0   \n",
       "1                 1149.0       55% OFF         S, M, L, XL      4.0    999.0   \n",
       "\n",
       "   DiscountOfferNumber  \n",
       "0                 45.0  \n",
       "1                 55.0  "
      ]
     },
     "execution_count": 25,
     "metadata": {},
     "output_type": "execute_result"
    }
   ],
   "source": [
    "mydata.head(2)"
   ]
  },
  {
   "cell_type": "code",
   "execution_count": 27,
   "id": "7f587e68",
   "metadata": {},
   "outputs": [
    {
     "data": {
      "text/plain": [
       "Category     Individual_category\n",
       "Indian Wear  sarees                 55520\n",
       "             kurtas                 31677\n",
       "Western      tops                   30696\n",
       "Topwear      tshirts                26664\n",
       "Western      dresses                26523\n",
       "                                    ...  \n",
       "Plus Size    trunk                      1\n",
       "Indian Wear  jeans                      1\n",
       "Sports Wear  trousers                   1\n",
       "             swim-bottoms               1\n",
       "Plus Size    innerwear-vests            1\n",
       "Name: Individual_category, Length: 188, dtype: int64"
      ]
     },
     "execution_count": 27,
     "metadata": {},
     "output_type": "execute_result"
    }
   ],
   "source": [
    "mydata.groupby('Category').Individual_category.value_counts().sort_values(ascending=False)"
   ]
  },
  {
   "cell_type": "code",
   "execution_count": 30,
   "id": "fbe2f57e",
   "metadata": {},
   "outputs": [],
   "source": [
    "mydata['category_by_Gender']=mydata['category_by_Gender'].drop_duplicates(inplace=True)"
   ]
  },
  {
   "cell_type": "code",
   "execution_count": 31,
   "id": "8155f1aa",
   "metadata": {},
   "outputs": [
    {
     "data": {
      "text/plain": [
       "Index(['URL', 'Product_id', 'BrandName', 'Category', 'Individual_category',\n",
       "       'category_by_Gender', 'Description', 'DiscountPrice (in Rs)',\n",
       "       'OriginalPrice (in Rs)', 'DiscountOffer', 'SizeOption', 'Ratings',\n",
       "       'Reviews', 'DiscountOfferNumber'],\n",
       "      dtype='object')"
      ]
     },
     "execution_count": 31,
     "metadata": {},
     "output_type": "execute_result"
    }
   ],
   "source": [
    "mydata.columns"
   ]
  },
  {
   "cell_type": "code",
   "execution_count": 33,
   "id": "e99ba73f",
   "metadata": {},
   "outputs": [
    {
     "data": {
      "text/plain": [
       "True     452280\n",
       "False         1\n",
       "Name: category_by_Gender, dtype: int64"
      ]
     },
     "execution_count": 33,
     "metadata": {},
     "output_type": "execute_result"
    }
   ],
   "source": [
    "mydata['category_by_Gender'].duplicated().value_counts()"
   ]
  },
  {
   "cell_type": "markdown",
   "id": "98e70b21",
   "metadata": {},
   "source": [
    "# EDA"
   ]
  },
  {
   "cell_type": "code",
   "execution_count": 38,
   "id": "d8c05ed1",
   "metadata": {},
   "outputs": [],
   "source": [
    "import warnings\n",
    "warnings.filterwarnings(\"ignore\")"
   ]
  },
  {
   "cell_type": "code",
   "execution_count": 39,
   "id": "3134be77",
   "metadata": {},
   "outputs": [
    {
     "data": {
      "text/html": [
       "<div>\n",
       "<style scoped>\n",
       "    .dataframe tbody tr th:only-of-type {\n",
       "        vertical-align: middle;\n",
       "    }\n",
       "\n",
       "    .dataframe tbody tr th {\n",
       "        vertical-align: top;\n",
       "    }\n",
       "\n",
       "    .dataframe thead th {\n",
       "        text-align: right;\n",
       "    }\n",
       "</style>\n",
       "<table border=\"1\" class=\"dataframe\">\n",
       "  <thead>\n",
       "    <tr style=\"text-align: right;\">\n",
       "      <th></th>\n",
       "      <th>Product_id</th>\n",
       "      <th>DiscountPrice (in Rs)</th>\n",
       "      <th>OriginalPrice (in Rs)</th>\n",
       "      <th>Ratings</th>\n",
       "      <th>Reviews</th>\n",
       "      <th>DiscountOfferNumber</th>\n",
       "    </tr>\n",
       "  </thead>\n",
       "  <tbody>\n",
       "    <tr>\n",
       "      <th>count</th>\n",
       "      <td>4.522810e+05</td>\n",
       "      <td>452281.000000</td>\n",
       "      <td>452281.000000</td>\n",
       "      <td>452281.000000</td>\n",
       "      <td>452281.000000</td>\n",
       "      <td>452281.000000</td>\n",
       "    </tr>\n",
       "    <tr>\n",
       "      <th>mean</th>\n",
       "      <td>1.499610e+07</td>\n",
       "      <td>1206.256024</td>\n",
       "      <td>2480.508664</td>\n",
       "      <td>4.106181</td>\n",
       "      <td>33.780200</td>\n",
       "      <td>46.831266</td>\n",
       "    </tr>\n",
       "    <tr>\n",
       "      <th>std</th>\n",
       "      <td>3.167940e+06</td>\n",
       "      <td>1007.299780</td>\n",
       "      <td>1908.946886</td>\n",
       "      <td>0.315447</td>\n",
       "      <td>80.739791</td>\n",
       "      <td>20.636112</td>\n",
       "    </tr>\n",
       "    <tr>\n",
       "      <th>min</th>\n",
       "      <td>6.115400e+04</td>\n",
       "      <td>127.000000</td>\n",
       "      <td>129.000000</td>\n",
       "      <td>1.000000</td>\n",
       "      <td>0.000000</td>\n",
       "      <td>0.000000</td>\n",
       "    </tr>\n",
       "    <tr>\n",
       "      <th>25%</th>\n",
       "      <td>1.380086e+07</td>\n",
       "      <td>649.000000</td>\n",
       "      <td>1399.000000</td>\n",
       "      <td>4.000000</td>\n",
       "      <td>12.000000</td>\n",
       "      <td>32.000000</td>\n",
       "    </tr>\n",
       "    <tr>\n",
       "      <th>50%</th>\n",
       "      <td>1.584991e+07</td>\n",
       "      <td>918.000000</td>\n",
       "      <td>1999.000000</td>\n",
       "      <td>4.100000</td>\n",
       "      <td>16.000000</td>\n",
       "      <td>50.000000</td>\n",
       "    </tr>\n",
       "    <tr>\n",
       "      <th>75%</th>\n",
       "      <td>1.724043e+07</td>\n",
       "      <td>1418.000000</td>\n",
       "      <td>2999.000000</td>\n",
       "      <td>4.200000</td>\n",
       "      <td>22.000000</td>\n",
       "      <td>62.000000</td>\n",
       "    </tr>\n",
       "    <tr>\n",
       "      <th>max</th>\n",
       "      <td>1.846020e+07</td>\n",
       "      <td>29999.000000</td>\n",
       "      <td>45000.000000</td>\n",
       "      <td>5.000000</td>\n",
       "      <td>999.000000</td>\n",
       "      <td>90.000000</td>\n",
       "    </tr>\n",
       "  </tbody>\n",
       "</table>\n",
       "</div>"
      ],
      "text/plain": [
       "         Product_id  DiscountPrice (in Rs)  OriginalPrice (in Rs)  \\\n",
       "count  4.522810e+05          452281.000000          452281.000000   \n",
       "mean   1.499610e+07            1206.256024            2480.508664   \n",
       "std    3.167940e+06            1007.299780            1908.946886   \n",
       "min    6.115400e+04             127.000000             129.000000   \n",
       "25%    1.380086e+07             649.000000            1399.000000   \n",
       "50%    1.584991e+07             918.000000            1999.000000   \n",
       "75%    1.724043e+07            1418.000000            2999.000000   \n",
       "max    1.846020e+07           29999.000000           45000.000000   \n",
       "\n",
       "             Ratings        Reviews  DiscountOfferNumber  \n",
       "count  452281.000000  452281.000000        452281.000000  \n",
       "mean        4.106181      33.780200            46.831266  \n",
       "std         0.315447      80.739791            20.636112  \n",
       "min         1.000000       0.000000             0.000000  \n",
       "25%         4.000000      12.000000            32.000000  \n",
       "50%         4.100000      16.000000            50.000000  \n",
       "75%         4.200000      22.000000            62.000000  \n",
       "max         5.000000     999.000000            90.000000  "
      ]
     },
     "execution_count": 39,
     "metadata": {},
     "output_type": "execute_result"
    }
   ],
   "source": [
    "mydata.describe()"
   ]
  },
  {
   "cell_type": "raw",
   "id": "21fd3580",
   "metadata": {},
   "source": [
    "#SOME INSIGHTS\n",
    "\n",
    "1.)We have MAX & MIN Discount price 127 and 29999 respectively\n",
    "2.)We have MAX & MIN Original price 129 and 45000 respectively\n",
    "3.)Minimum & Maximum Reviews 0 and 999 respectively\n",
    "4.)\n"
   ]
  },
  {
   "cell_type": "code",
   "execution_count": 40,
   "id": "83dd0123",
   "metadata": {},
   "outputs": [
    {
     "data": {
      "text/html": [
       "<div>\n",
       "<style scoped>\n",
       "    .dataframe tbody tr th:only-of-type {\n",
       "        vertical-align: middle;\n",
       "    }\n",
       "\n",
       "    .dataframe tbody tr th {\n",
       "        vertical-align: top;\n",
       "    }\n",
       "\n",
       "    .dataframe thead th {\n",
       "        text-align: right;\n",
       "    }\n",
       "</style>\n",
       "<table border=\"1\" class=\"dataframe\">\n",
       "  <thead>\n",
       "    <tr style=\"text-align: right;\">\n",
       "      <th></th>\n",
       "      <th>Product_id</th>\n",
       "      <th>DiscountPrice (in Rs)</th>\n",
       "      <th>OriginalPrice (in Rs)</th>\n",
       "      <th>Ratings</th>\n",
       "      <th>Reviews</th>\n",
       "      <th>DiscountOfferNumber</th>\n",
       "    </tr>\n",
       "  </thead>\n",
       "  <tbody>\n",
       "    <tr>\n",
       "      <th>Product_id</th>\n",
       "      <td>1.000000</td>\n",
       "      <td>0.116409</td>\n",
       "      <td>0.109223</td>\n",
       "      <td>0.050303</td>\n",
       "      <td>-0.271666</td>\n",
       "      <td>-0.056918</td>\n",
       "    </tr>\n",
       "    <tr>\n",
       "      <th>DiscountPrice (in Rs)</th>\n",
       "      <td>0.116409</td>\n",
       "      <td>1.000000</td>\n",
       "      <td>0.810289</td>\n",
       "      <td>-0.046426</td>\n",
       "      <td>-0.088450</td>\n",
       "      <td>-0.240375</td>\n",
       "    </tr>\n",
       "    <tr>\n",
       "      <th>OriginalPrice (in Rs)</th>\n",
       "      <td>0.109223</td>\n",
       "      <td>0.810289</td>\n",
       "      <td>1.000000</td>\n",
       "      <td>-0.100516</td>\n",
       "      <td>-0.084965</td>\n",
       "      <td>0.189117</td>\n",
       "    </tr>\n",
       "    <tr>\n",
       "      <th>Ratings</th>\n",
       "      <td>0.050303</td>\n",
       "      <td>-0.046426</td>\n",
       "      <td>-0.100516</td>\n",
       "      <td>1.000000</td>\n",
       "      <td>0.031751</td>\n",
       "      <td>-0.096951</td>\n",
       "    </tr>\n",
       "    <tr>\n",
       "      <th>Reviews</th>\n",
       "      <td>-0.271666</td>\n",
       "      <td>-0.088450</td>\n",
       "      <td>-0.084965</td>\n",
       "      <td>0.031751</td>\n",
       "      <td>1.000000</td>\n",
       "      <td>0.051838</td>\n",
       "    </tr>\n",
       "    <tr>\n",
       "      <th>DiscountOfferNumber</th>\n",
       "      <td>-0.056918</td>\n",
       "      <td>-0.240375</td>\n",
       "      <td>0.189117</td>\n",
       "      <td>-0.096951</td>\n",
       "      <td>0.051838</td>\n",
       "      <td>1.000000</td>\n",
       "    </tr>\n",
       "  </tbody>\n",
       "</table>\n",
       "</div>"
      ],
      "text/plain": [
       "                       Product_id  DiscountPrice (in Rs)  \\\n",
       "Product_id               1.000000               0.116409   \n",
       "DiscountPrice (in Rs)    0.116409               1.000000   \n",
       "OriginalPrice (in Rs)    0.109223               0.810289   \n",
       "Ratings                  0.050303              -0.046426   \n",
       "Reviews                 -0.271666              -0.088450   \n",
       "DiscountOfferNumber     -0.056918              -0.240375   \n",
       "\n",
       "                       OriginalPrice (in Rs)   Ratings   Reviews  \\\n",
       "Product_id                          0.109223  0.050303 -0.271666   \n",
       "DiscountPrice (in Rs)               0.810289 -0.046426 -0.088450   \n",
       "OriginalPrice (in Rs)               1.000000 -0.100516 -0.084965   \n",
       "Ratings                            -0.100516  1.000000  0.031751   \n",
       "Reviews                            -0.084965  0.031751  1.000000   \n",
       "DiscountOfferNumber                 0.189117 -0.096951  0.051838   \n",
       "\n",
       "                       DiscountOfferNumber  \n",
       "Product_id                       -0.056918  \n",
       "DiscountPrice (in Rs)            -0.240375  \n",
       "OriginalPrice (in Rs)             0.189117  \n",
       "Ratings                          -0.096951  \n",
       "Reviews                           0.051838  \n",
       "DiscountOfferNumber               1.000000  "
      ]
     },
     "execution_count": 40,
     "metadata": {},
     "output_type": "execute_result"
    }
   ],
   "source": [
    "mydata.corr()"
   ]
  },
  {
   "cell_type": "code",
   "execution_count": 41,
   "id": "36a09f2d",
   "metadata": {},
   "outputs": [
    {
     "data": {
      "text/plain": [
       "<AxesSubplot:xlabel='OriginalPrice (in Rs)'>"
      ]
     },
     "execution_count": 41,
     "metadata": {},
     "output_type": "execute_result"
    },
    {
     "data": {
      "image/png": "[encoded data removed]",
      "text/plain": [
       "<Figure size 640x480 with 1 Axes>"
      ]
     },
     "metadata": {},
     "output_type": "display_data"
    }
   ],
   "source": [
    "sns.boxplot(mydata[\"OriginalPrice (in Rs)\"])\n",
    "mydata[[\"OriginalPrice (in Rs)\",\"DiscountPrice (in Rs)\"]].boxplot(figsize=(500,10))"
   ]
  },
  {
   "cell_type": "code",
   "execution_count": 42,
   "id": "4f3fab55",
   "metadata": {},
   "outputs": [
    {
     "data": {
      "text/plain": [
       "0"
      ]
     },
     "execution_count": 42,
     "metadata": {},
     "output_type": "execute_result"
    }
   ],
   "source": [
    "mydata.duplicated().sum()"
   ]
  },
  {
   "cell_type": "code",
   "execution_count": 80,
   "id": "9b91fb99",
   "metadata": {},
   "outputs": [
    {
     "name": "stdout",
     "output_type": "stream",
     "text": [
      "URL ============ 452281\n",
      "Product_id ============ 452281\n",
      "BrandName ============ 1790\n",
      "Category ============ 8\n",
      "Individual_category ============ 85\n",
      "category_by_Gender ============ 0\n",
      "Description ============ 370239\n",
      "DiscountPrice (in Rs) ============ 4699\n",
      "OriginalPrice (in Rs) ============ 4568\n",
      "DiscountOffer ============ 1418\n",
      "SizeOption ============ 2855\n",
      "Ratings ============ 48\n",
      "Reviews ============ 1021\n",
      "DiscountOfferNumber ============ 91\n"
     ]
    }
   ],
   "source": [
    "for i in mydata.columns:\n",
    "    print(i,\"============\",mydata[i].nunique())"
   ]
  },
  {
   "cell_type": "code",
   "execution_count": 43,
   "id": "04626f60",
   "metadata": {},
   "outputs": [
    {
     "data": {
      "text/plain": [
       "<AxesSubplot:>"
      ]
     },
     "execution_count": 43,
     "metadata": {},
     "output_type": "execute_result"
    },
    {
     "data": {
      "image/png": "[encoded data removed]",
      "text/plain": [
       "<Figure size 1000x600 with 2 Axes>"
      ]
     },
     "metadata": {},
     "output_type": "display_data"
    }
   ],
   "source": [
    "plt.figure(figsize=(10,6))\n",
    "sns.heatmap(mydata.corr(),annot=True)"
   ]
  },
  {
   "cell_type": "code",
   "execution_count": 44,
   "id": "8496ac4b",
   "metadata": {},
   "outputs": [
    {
     "data": {
      "text/plain": [
       "<AxesSubplot:xlabel='DiscountPrice (in Rs)', ylabel='Count'>"
      ]
     },
     "execution_count": 44,
     "metadata": {},
     "output_type": "execute_result"
    },
    {
     "data": {
      "image/png": "[encoded data removed]",
      "text/plain": [
       "<Figure size 640x480 with 1 Axes>"
      ]
     },
     "metadata": {},
     "output_type": "display_data"
    }
   ],
   "source": [
    "sns.histplot(mydata[\"DiscountPrice (in Rs)\"],kde=True)"
   ]
  },
  {
   "cell_type": "code",
   "execution_count": 45,
   "id": "e2123d5d",
   "metadata": {},
   "outputs": [
    {
     "data": {
      "text/plain": [
       "mean      1206.256024\n",
       "median     918.000000\n",
       "Name: DiscountPrice (in Rs), dtype: float64"
      ]
     },
     "execution_count": 45,
     "metadata": {},
     "output_type": "execute_result"
    }
   ],
   "source": [
    "mydata[\"DiscountPrice (in Rs)\"].agg([np.mean,np.median])"
   ]
  },
  {
   "cell_type": "code",
   "execution_count": 75,
   "id": "d98d7ed5",
   "metadata": {},
   "outputs": [
    {
     "name": "stdout",
     "output_type": "stream",
     "text": [
      "URL ============ 452281\n",
      "Product_id ============ 452281\n",
      "BrandName ============ 1790\n",
      "Category ============ 8\n",
      "Individual_category ============ 85\n",
      "category_by_Gender ============ 0\n",
      "Description ============ 370239\n",
      "DiscountPrice (in Rs) ============ 4699\n",
      "OriginalPrice (in Rs) ============ 4568\n",
      "DiscountOffer ============ 1418\n",
      "SizeOption ============ 2855\n",
      "Ratings ============ 48\n",
      "Reviews ============ 1021\n",
      "DiscountOfferNumber ============ 91\n"
     ]
    }
   ],
   "source": []
  },
  {
   "cell_type": "code",
   "execution_count": null,
   "id": "9660dab4",
   "metadata": {},
   "outputs": [],
   "source": []
  }
 ],
 "metadata": {
  "kernelspec": {
   "display_name": "Python 3 (ipykernel)",
   "language": "python",
   "name": "python3"
  },
  "language_info": {
   "codemirror_mode": {
    "name": "ipython",
    "version": 3
   },
   "file_extension": ".py",
   "mimetype": "text/x-python",
   "name": "python",
   "nbconvert_exporter": "python",
   "pygments_lexer": "ipython3",
   "version": "3.9.13"
  }
 },
 "nbformat": 4,
 "nbformat_minor": 5
}
