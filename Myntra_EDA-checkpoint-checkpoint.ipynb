{
 "cells": [
  {
   "cell_type": "code",
   "execution_count": 11,
   "id": "fc0c0058",
   "metadata": {},
   "outputs": [],
   "source": [
    "import pandas as pd\n",
    "import numpy as np\n",
    "import matplotlib.pyplot as plt\n",
    "%matplotlib inline\n",
    "import seaborn as sns\n",
    "import warnings\n",
    "warnings.filterwarnings(\"ignore\")"
   ]
  },
  {
   "cell_type": "code",
   "execution_count": 5,
   "id": "9041f5e3",
   "metadata": {},
   "outputs": [],
   "source": [
    "myntra_eda=pd.read_csv(r\"C:\\Users\\NaveenGupta\\Desktop\\Naveen/Myntra.csv\")"
   ]
  },
  {
   "cell_type": "code",
   "execution_count": 7,
   "id": "5e1f71d6",
   "metadata": {},
   "outputs": [
    {
     "data": {
      "text/plain": [
       "(452281, 14)"
      ]
     },
     "execution_count": 7,
     "metadata": {},
     "output_type": "execute_result"
    }
   ],
   "source": [
    "myntra_eda.shape"
   ]
  },
  {
   "cell_type": "code",
   "execution_count": 8,
   "id": "4891e6a6",
   "metadata": {},
   "outputs": [
    {
     "data": {
      "text/plain": [
       "URL                      0\n",
       "Product_id               0\n",
       "BrandName                0\n",
       "Category                 0\n",
       "Individual_category      0\n",
       "category_by_Gender       0\n",
       "Description              0\n",
       "DiscountPrice (in Rs)    0\n",
       "OriginalPrice (in Rs)    0\n",
       "DiscountOffer            0\n",
       "SizeOption               0\n",
       "Ratings                  0\n",
       "Reviews                  0\n",
       "DiscountOfferNumber      0\n",
       "dtype: int64"
      ]
     },
     "execution_count": 8,
     "metadata": {},
     "output_type": "execute_result"
    }
   ],
   "source": [
    "myntra_eda.isnull().sum()"
   ]
  },
  {
   "cell_type": "code",
   "execution_count": 9,
   "id": "5cf9acc3",
   "metadata": {},
   "outputs": [
    {
     "data": {
      "text/html": [
       "<div>\n",
       "<style scoped>\n",
       "    .dataframe tbody tr th:only-of-type {\n",
       "        vertical-align: middle;\n",
       "    }\n",
       "\n",
       "    .dataframe tbody tr th {\n",
       "        vertical-align: top;\n",
       "    }\n",
       "\n",
       "    .dataframe thead th {\n",
       "        text-align: right;\n",
       "    }\n",
       "</style>\n",
       "<table border=\"1\" class=\"dataframe\">\n",
       "  <thead>\n",
       "    <tr style=\"text-align: right;\">\n",
       "      <th></th>\n",
       "      <th>Product_id</th>\n",
       "      <th>DiscountPrice (in Rs)</th>\n",
       "      <th>OriginalPrice (in Rs)</th>\n",
       "      <th>Ratings</th>\n",
       "      <th>Reviews</th>\n",
       "      <th>DiscountOfferNumber</th>\n",
       "    </tr>\n",
       "  </thead>\n",
       "  <tbody>\n",
       "    <tr>\n",
       "      <th>count</th>\n",
       "      <td>4.522810e+05</td>\n",
       "      <td>452281.000000</td>\n",
       "      <td>452281.000000</td>\n",
       "      <td>452281.000000</td>\n",
       "      <td>452281.000000</td>\n",
       "      <td>452281.000000</td>\n",
       "    </tr>\n",
       "    <tr>\n",
       "      <th>mean</th>\n",
       "      <td>1.499610e+07</td>\n",
       "      <td>1206.256024</td>\n",
       "      <td>2480.508664</td>\n",
       "      <td>4.106181</td>\n",
       "      <td>33.780200</td>\n",
       "      <td>46.831266</td>\n",
       "    </tr>\n",
       "    <tr>\n",
       "      <th>std</th>\n",
       "      <td>3.167940e+06</td>\n",
       "      <td>1007.299780</td>\n",
       "      <td>1908.946886</td>\n",
       "      <td>0.315447</td>\n",
       "      <td>80.739791</td>\n",
       "      <td>20.636112</td>\n",
       "    </tr>\n",
       "    <tr>\n",
       "      <th>min</th>\n",
       "      <td>6.115400e+04</td>\n",
       "      <td>127.000000</td>\n",
       "      <td>129.000000</td>\n",
       "      <td>1.000000</td>\n",
       "      <td>0.000000</td>\n",
       "      <td>0.000000</td>\n",
       "    </tr>\n",
       "    <tr>\n",
       "      <th>25%</th>\n",
       "      <td>1.380086e+07</td>\n",
       "      <td>649.000000</td>\n",
       "      <td>1399.000000</td>\n",
       "      <td>4.000000</td>\n",
       "      <td>12.000000</td>\n",
       "      <td>32.000000</td>\n",
       "    </tr>\n",
       "    <tr>\n",
       "      <th>50%</th>\n",
       "      <td>1.584991e+07</td>\n",
       "      <td>918.000000</td>\n",
       "      <td>1999.000000</td>\n",
       "      <td>4.100000</td>\n",
       "      <td>16.000000</td>\n",
       "      <td>50.000000</td>\n",
       "    </tr>\n",
       "    <tr>\n",
       "      <th>75%</th>\n",
       "      <td>1.724043e+07</td>\n",
       "      <td>1418.000000</td>\n",
       "      <td>2999.000000</td>\n",
       "      <td>4.200000</td>\n",
       "      <td>22.000000</td>\n",
       "      <td>62.000000</td>\n",
       "    </tr>\n",
       "    <tr>\n",
       "      <th>max</th>\n",
       "      <td>1.846020e+07</td>\n",
       "      <td>29999.000000</td>\n",
       "      <td>45000.000000</td>\n",
       "      <td>5.000000</td>\n",
       "      <td>999.000000</td>\n",
       "      <td>90.000000</td>\n",
       "    </tr>\n",
       "  </tbody>\n",
       "</table>\n",
       "</div>"
      ],
      "text/plain": [
       "         Product_id  DiscountPrice (in Rs)  OriginalPrice (in Rs)  \\\n",
       "count  4.522810e+05          452281.000000          452281.000000   \n",
       "mean   1.499610e+07            1206.256024            2480.508664   \n",
       "std    3.167940e+06            1007.299780            1908.946886   \n",
       "min    6.115400e+04             127.000000             129.000000   \n",
       "25%    1.380086e+07             649.000000            1399.000000   \n",
       "50%    1.584991e+07             918.000000            1999.000000   \n",
       "75%    1.724043e+07            1418.000000            2999.000000   \n",
       "max    1.846020e+07           29999.000000           45000.000000   \n",
       "\n",
       "             Ratings        Reviews  DiscountOfferNumber  \n",
       "count  452281.000000  452281.000000        452281.000000  \n",
       "mean        4.106181      33.780200            46.831266  \n",
       "std         0.315447      80.739791            20.636112  \n",
       "min         1.000000       0.000000             0.000000  \n",
       "25%         4.000000      12.000000            32.000000  \n",
       "50%         4.100000      16.000000            50.000000  \n",
       "75%         4.200000      22.000000            62.000000  \n",
       "max         5.000000     999.000000            90.000000  "
      ]
     },
     "execution_count": 9,
     "metadata": {},
     "output_type": "execute_result"
    }
   ],
   "source": [
    "myntra_eda.describe()"
   ]
  },
  {
   "cell_type": "code",
   "execution_count": 12,
   "id": "1539bc98",
   "metadata": {},
   "outputs": [
    {
     "data": {
      "text/plain": [
       "0"
      ]
     },
     "execution_count": 12,
     "metadata": {},
     "output_type": "execute_result"
    }
   ],
   "source": [
    "myntra_eda.duplicated().sum()"
   ]
  },
  {
   "cell_type": "code",
   "execution_count": 13,
   "id": "f893e8ca",
   "metadata": {},
   "outputs": [
    {
     "name": "stdout",
     "output_type": "stream",
     "text": [
      "<class 'pandas.core.frame.DataFrame'>\n",
      "RangeIndex: 452281 entries, 0 to 452280\n",
      "Data columns (total 14 columns):\n",
      " #   Column                 Non-Null Count   Dtype  \n",
      "---  ------                 --------------   -----  \n",
      " 0   URL                    452281 non-null  object \n",
      " 1   Product_id             452281 non-null  int64  \n",
      " 2   BrandName              452281 non-null  object \n",
      " 3   Category               452281 non-null  object \n",
      " 4   Individual_category    452281 non-null  object \n",
      " 5   category_by_Gender     452281 non-null  object \n",
      " 6   Description            452281 non-null  object \n",
      " 7   DiscountPrice (in Rs)  452281 non-null  float64\n",
      " 8   OriginalPrice (in Rs)  452281 non-null  float64\n",
      " 9   DiscountOffer          452281 non-null  object \n",
      " 10  SizeOption             452281 non-null  object \n",
      " 11  Ratings                452281 non-null  float64\n",
      " 12  Reviews                452281 non-null  float64\n",
      " 13  DiscountOfferNumber    452281 non-null  float64\n",
      "dtypes: float64(5), int64(1), object(8)\n",
      "memory usage: 48.3+ MB\n"
     ]
    }
   ],
   "source": [
    "myntra_eda.info()"
   ]
  },
  {
   "cell_type": "code",
   "execution_count": 29,
   "id": "52ce3e9b",
   "metadata": {},
   "outputs": [
    {
     "data": {
      "text/plain": [
       "['Product_id',\n",
       " 'DiscountPrice (in Rs)',\n",
       " 'OriginalPrice (in Rs)',\n",
       " 'Ratings',\n",
       " 'Reviews',\n",
       " 'DiscountOfferNumber']"
      ]
     },
     "execution_count": 29,
     "metadata": {},
     "output_type": "execute_result"
    }
   ],
   "source": [
    "[feature for feature in myntra_eda.columns if myntra_eda[feature].dtype!='O']"
   ]
  },
  {
   "cell_type": "code",
   "execution_count": 30,
   "id": "2cefc8cb",
   "metadata": {},
   "outputs": [],
   "source": [
    "numerical_feature=[feature for feature in myntra_eda.columns if myntra_eda[feature].dtype!='O']\n",
    "object_feature=[feature for feature in myntra_eda.columns if myntra_eda[feature].dtype=='O']"
   ]
  },
  {
   "cell_type": "code",
   "execution_count": 31,
   "id": "df51df18",
   "metadata": {},
   "outputs": [
    {
     "data": {
      "text/plain": [
       "(['Product_id',\n",
       "  'DiscountPrice (in Rs)',\n",
       "  'OriginalPrice (in Rs)',\n",
       "  'Ratings',\n",
       "  'Reviews',\n",
       "  'DiscountOfferNumber'],\n",
       " ['URL',\n",
       "  'BrandName',\n",
       "  'Category',\n",
       "  'Individual_category',\n",
       "  'category_by_Gender',\n",
       "  'Description',\n",
       "  'DiscountOffer',\n",
       "  'SizeOption'])"
      ]
     },
     "execution_count": 31,
     "metadata": {},
     "output_type": "execute_result"
    }
   ],
   "source": [
    "numerical_feature,object_feature"
   ]
  },
  {
   "cell_type": "code",
   "execution_count": 47,
   "id": "8775e63a",
   "metadata": {},
   "outputs": [
    {
     "data": {
      "text/plain": [
       "<AxesSubplot:>"
      ]
     },
     "execution_count": 47,
     "metadata": {},
     "output_type": "execute_result"
    },
    {
     "data": {
      "image/png": "[encoded data removed]",
      "text/plain": [
       "<Figure size 1000x600 with 2 Axes>"
      ]
     },
     "metadata": {},
     "output_type": "display_data"
    }
   ],
   "source": [
    "plt.figure(figsize=(10,6))\n",
    "sns.heatmap(myntra_eda.corr(),annot=True)"
   ]
  },
  {
   "cell_type": "markdown",
   "id": "6269317e",
   "metadata": {},
   "source": [
    "* Now here the Strong Correlation is beyween Discount_price and Original_Price"
   ]
  },
  {
   "cell_type": "code",
   "execution_count": 49,
   "id": "9ab65cb5",
   "metadata": {},
   "outputs": [
    {
     "data": {
      "text/plain": [
       "Index(['URL', 'Product_id', 'BrandName', 'Category', 'Individual_category',\n",
       "       'category_by_Gender', 'Description', 'DiscountPrice (in Rs)',\n",
       "       'OriginalPrice (in Rs)', 'DiscountOffer', 'SizeOption', 'Ratings',\n",
       "       'Reviews', 'DiscountOfferNumber'],\n",
       "      dtype='object')"
      ]
     },
     "execution_count": 49,
     "metadata": {},
     "output_type": "execute_result"
    }
   ],
   "source": [
    "myntra_eda.columns"
   ]
  },
  {
   "cell_type": "code",
   "execution_count": 52,
   "id": "76bbf27e",
   "metadata": {},
   "outputs": [
    {
     "data": {
      "text/plain": [
       "<AxesSubplot:>"
      ]
     },
     "execution_count": 52,
     "metadata": {},
     "output_type": "execute_result"
    },
    {
     "data": {
      "image/png": "[encoded data removed]",
      "text/plain": [
       "<Figure size 640x480 with 1 Axes>"
      ]
     },
     "metadata": {},
     "output_type": "display_data"
    }
   ],
   "source": [
    "sns.boxplot(data=myntra_eda['OriginalPrice (in Rs)'])"
   ]
  },
  {
   "cell_type": "code",
   "execution_count": 61,
   "id": "cd91e6b2",
   "metadata": {},
   "outputs": [],
   "source": [
    "Q1,Q3=myntra_eda['OriginalPrice (in Rs)'].quantile([0.25,0.75])"
   ]
  },
  {
   "cell_type": "code",
   "execution_count": 62,
   "id": "16b59b89",
   "metadata": {},
   "outputs": [],
   "source": [
    "Min,Max=myntra_eda['OriginalPrice (in Rs)'].aggregate([np.min,np.max])"
   ]
  },
  {
   "cell_type": "code",
   "execution_count": 65,
   "id": "d70f0018",
   "metadata": {},
   "outputs": [],
   "source": [
    "IQR=Q3-Q1"
   ]
  },
  {
   "cell_type": "code",
   "execution_count": 66,
   "id": "9e207ca6",
   "metadata": {},
   "outputs": [
    {
     "data": {
      "text/plain": [
       "1600.0"
      ]
     },
     "execution_count": 66,
     "metadata": {},
     "output_type": "execute_result"
    }
   ],
   "source": [
    "IQR"
   ]
  },
  {
   "cell_type": "code",
   "execution_count": 67,
   "id": "149f4e57",
   "metadata": {},
   "outputs": [
    {
     "name": "stdout",
     "output_type": "stream",
     "text": [
      "Q1:  1399.0 \n",
      "Q3:  2999.0 \n",
      "IQR:  1600.0 \n",
      "Min:  129.0 \n",
      "Max:  45000.0\n"
     ]
    }
   ],
   "source": [
    "print(\"Q1: \",Q1,\"\\nQ3: \",Q3,\"\\nIQR: \",IQR,\"\\nMin: \",Min,\"\\nMax: \",Max)"
   ]
  },
  {
   "cell_type": "code",
   "execution_count": 71,
   "id": "d2ecf861",
   "metadata": {},
   "outputs": [],
   "source": [
    "lower_wishker=Q1-1.5*IQR\n",
    "upper_wishker=Q3+1.5*IQR"
   ]
  },
  {
   "cell_type": "code",
   "execution_count": 72,
   "id": "3cca4d4e",
   "metadata": {},
   "outputs": [
    {
     "data": {
      "text/plain": [
       "(-1001.0, 5399.0)"
      ]
     },
     "execution_count": 72,
     "metadata": {},
     "output_type": "execute_result"
    }
   ],
   "source": [
    "lower_wishker,upper_wishker"
   ]
  },
  {
   "cell_type": "code",
   "execution_count": 77,
   "id": "be116fc2",
   "metadata": {},
   "outputs": [],
   "source": [
    "df=myntra_eda[(myntra_eda['OriginalPrice (in Rs)']>lower_wishker) & (myntra_eda['OriginalPrice (in Rs)']<upper_wishker)]"
   ]
  },
  {
   "cell_type": "code",
   "execution_count": 78,
   "id": "cde26c0f",
   "metadata": {},
   "outputs": [
    {
     "data": {
      "text/html": [
       "<div>\n",
       "<style scoped>\n",
       "    .dataframe tbody tr th:only-of-type {\n",
       "        vertical-align: middle;\n",
       "    }\n",
       "\n",
       "    .dataframe tbody tr th {\n",
       "        vertical-align: top;\n",
       "    }\n",
       "\n",
       "    .dataframe thead th {\n",
       "        text-align: right;\n",
       "    }\n",
       "</style>\n",
       "<table border=\"1\" class=\"dataframe\">\n",
       "  <thead>\n",
       "    <tr style=\"text-align: right;\">\n",
       "      <th></th>\n",
       "      <th>URL</th>\n",
       "      <th>Product_id</th>\n",
       "      <th>BrandName</th>\n",
       "      <th>Category</th>\n",
       "      <th>Individual_category</th>\n",
       "      <th>category_by_Gender</th>\n",
       "      <th>Description</th>\n",
       "      <th>DiscountPrice (in Rs)</th>\n",
       "      <th>OriginalPrice (in Rs)</th>\n",
       "      <th>DiscountOffer</th>\n",
       "      <th>SizeOption</th>\n",
       "      <th>Ratings</th>\n",
       "      <th>Reviews</th>\n",
       "      <th>DiscountOfferNumber</th>\n",
       "    </tr>\n",
       "  </thead>\n",
       "  <tbody>\n",
       "    <tr>\n",
       "      <th>0</th>\n",
       "      <td>https://www.myntra.com/jeans/roadster/roadster...</td>\n",
       "      <td>2296012</td>\n",
       "      <td>Roadster</td>\n",
       "      <td>Bottom Wear</td>\n",
       "      <td>jeans</td>\n",
       "      <td>Men</td>\n",
       "      <td>roadster men navy blue slim fit mid rise clean...</td>\n",
       "      <td>824.0</td>\n",
       "      <td>1499.0</td>\n",
       "      <td>45% OFF</td>\n",
       "      <td>28, 30, 32, 34, 36</td>\n",
       "      <td>3.9</td>\n",
       "      <td>999.0</td>\n",
       "      <td>45.0</td>\n",
       "    </tr>\n",
       "    <tr>\n",
       "      <th>1</th>\n",
       "      <td>https://www.myntra.com/track-pants/locomotive/...</td>\n",
       "      <td>13780156</td>\n",
       "      <td>LOCOMOTIVE</td>\n",
       "      <td>Bottom Wear</td>\n",
       "      <td>track-pants</td>\n",
       "      <td>Men</td>\n",
       "      <td>locomotive men black  white solid slim fit tra...</td>\n",
       "      <td>517.0</td>\n",
       "      <td>1149.0</td>\n",
       "      <td>55% OFF</td>\n",
       "      <td>S, M, L, XL</td>\n",
       "      <td>4.0</td>\n",
       "      <td>999.0</td>\n",
       "      <td>55.0</td>\n",
       "    </tr>\n",
       "    <tr>\n",
       "      <th>2</th>\n",
       "      <td>https://www.myntra.com/shirts/roadster/roadste...</td>\n",
       "      <td>11895958</td>\n",
       "      <td>Roadster</td>\n",
       "      <td>Topwear</td>\n",
       "      <td>shirts</td>\n",
       "      <td>Men</td>\n",
       "      <td>roadster men navy white  black geometric print...</td>\n",
       "      <td>629.0</td>\n",
       "      <td>1399.0</td>\n",
       "      <td>55% OFF</td>\n",
       "      <td>38, 40, 42, 44, 46, 48</td>\n",
       "      <td>4.3</td>\n",
       "      <td>999.0</td>\n",
       "      <td>55.0</td>\n",
       "    </tr>\n",
       "    <tr>\n",
       "      <th>3</th>\n",
       "      <td>https://www.myntra.com/shapewear/zivame/zivame...</td>\n",
       "      <td>4335679</td>\n",
       "      <td>Zivame</td>\n",
       "      <td>Lingerie &amp; Sleep Wear</td>\n",
       "      <td>shapewear</td>\n",
       "      <td>Women</td>\n",
       "      <td>zivame women black saree shapewear zi3023core0...</td>\n",
       "      <td>893.0</td>\n",
       "      <td>1295.0</td>\n",
       "      <td>31% OFF</td>\n",
       "      <td>S, M, L, XL, XXL</td>\n",
       "      <td>4.2</td>\n",
       "      <td>999.0</td>\n",
       "      <td>31.0</td>\n",
       "    </tr>\n",
       "    <tr>\n",
       "      <th>4</th>\n",
       "      <td>https://www.myntra.com/tshirts/roadster/roadst...</td>\n",
       "      <td>11690882</td>\n",
       "      <td>Roadster</td>\n",
       "      <td>Western</td>\n",
       "      <td>tshirts</td>\n",
       "      <td>Women</td>\n",
       "      <td>roadster women white solid v neck pure cotton ...</td>\n",
       "      <td>389.0</td>\n",
       "      <td>599.0</td>\n",
       "      <td>35% OFF</td>\n",
       "      <td>XS, S, M, L, XL</td>\n",
       "      <td>4.2</td>\n",
       "      <td>999.0</td>\n",
       "      <td>35.0</td>\n",
       "    </tr>\n",
       "    <tr>\n",
       "      <th>...</th>\n",
       "      <td>...</td>\n",
       "      <td>...</td>\n",
       "      <td>...</td>\n",
       "      <td>...</td>\n",
       "      <td>...</td>\n",
       "      <td>...</td>\n",
       "      <td>...</td>\n",
       "      <td>...</td>\n",
       "      <td>...</td>\n",
       "      <td>...</td>\n",
       "      <td>...</td>\n",
       "      <td>...</td>\n",
       "      <td>...</td>\n",
       "      <td>...</td>\n",
       "    </tr>\n",
       "    <tr>\n",
       "      <th>452251</th>\n",
       "      <td>https://www.myntra.com/tops/belle-fille/belle-...</td>\n",
       "      <td>1950571</td>\n",
       "      <td>Belle Fille</td>\n",
       "      <td>Western</td>\n",
       "      <td>tops</td>\n",
       "      <td>Women</td>\n",
       "      <td>belle fille women white  navy striped top</td>\n",
       "      <td>500.0</td>\n",
       "      <td>999.0</td>\n",
       "      <td>50% OFF</td>\n",
       "      <td>S, M, L, XL, XXL</td>\n",
       "      <td>4.1</td>\n",
       "      <td>16.0</td>\n",
       "      <td>50.0</td>\n",
       "    </tr>\n",
       "    <tr>\n",
       "      <th>452252</th>\n",
       "      <td>https://www.myntra.com/trousers/bitterlime/bit...</td>\n",
       "      <td>1687290</td>\n",
       "      <td>Bitterlime</td>\n",
       "      <td>Western</td>\n",
       "      <td>trousers</td>\n",
       "      <td>Women</td>\n",
       "      <td>bitterlime women blue solid regular fit pleate...</td>\n",
       "      <td>549.0</td>\n",
       "      <td>999.0</td>\n",
       "      <td>45% OFF</td>\n",
       "      <td>28, 30, 32, 34, 36</td>\n",
       "      <td>4.0</td>\n",
       "      <td>19.0</td>\n",
       "      <td>45.0</td>\n",
       "    </tr>\n",
       "    <tr>\n",
       "      <th>452253</th>\n",
       "      <td>https://www.myntra.com/tops/belle-fille/belle-...</td>\n",
       "      <td>1297873</td>\n",
       "      <td>Belle Fille</td>\n",
       "      <td>Western</td>\n",
       "      <td>tops</td>\n",
       "      <td>Women</td>\n",
       "      <td>belle fille teal green top</td>\n",
       "      <td>500.0</td>\n",
       "      <td>999.0</td>\n",
       "      <td>50% OFF</td>\n",
       "      <td>S, M, L, XL, XXL</td>\n",
       "      <td>4.1</td>\n",
       "      <td>16.0</td>\n",
       "      <td>50.0</td>\n",
       "    </tr>\n",
       "    <tr>\n",
       "      <th>452254</th>\n",
       "      <td>https://www.myntra.com/tops/belle-fille/belle-...</td>\n",
       "      <td>1297851</td>\n",
       "      <td>Belle Fille</td>\n",
       "      <td>Western</td>\n",
       "      <td>tops</td>\n",
       "      <td>Women</td>\n",
       "      <td>belle fille black top</td>\n",
       "      <td>500.0</td>\n",
       "      <td>999.0</td>\n",
       "      <td>50% OFF</td>\n",
       "      <td>S, M, L, XL, XXL</td>\n",
       "      <td>4.1</td>\n",
       "      <td>16.0</td>\n",
       "      <td>50.0</td>\n",
       "    </tr>\n",
       "    <tr>\n",
       "      <th>452255</th>\n",
       "      <td>https://www.myntra.com/tops/miss-chase/miss-ch...</td>\n",
       "      <td>1035478</td>\n",
       "      <td>Miss Chase</td>\n",
       "      <td>Western</td>\n",
       "      <td>tops</td>\n",
       "      <td>Women</td>\n",
       "      <td>miss chase orange crop top</td>\n",
       "      <td>559.0</td>\n",
       "      <td>999.0</td>\n",
       "      <td>44% OFF</td>\n",
       "      <td>XS, S, M, XL</td>\n",
       "      <td>4.1</td>\n",
       "      <td>16.0</td>\n",
       "      <td>44.0</td>\n",
       "    </tr>\n",
       "  </tbody>\n",
       "</table>\n",
       "<p>423837 rows × 14 columns</p>\n",
       "</div>"
      ],
      "text/plain": [
       "                                                      URL  Product_id  \\\n",
       "0       https://www.myntra.com/jeans/roadster/roadster...     2296012   \n",
       "1       https://www.myntra.com/track-pants/locomotive/...    13780156   \n",
       "2       https://www.myntra.com/shirts/roadster/roadste...    11895958   \n",
       "3       https://www.myntra.com/shapewear/zivame/zivame...     4335679   \n",
       "4       https://www.myntra.com/tshirts/roadster/roadst...    11690882   \n",
       "...                                                   ...         ...   \n",
       "452251  https://www.myntra.com/tops/belle-fille/belle-...     1950571   \n",
       "452252  https://www.myntra.com/trousers/bitterlime/bit...     1687290   \n",
       "452253  https://www.myntra.com/tops/belle-fille/belle-...     1297873   \n",
       "452254  https://www.myntra.com/tops/belle-fille/belle-...     1297851   \n",
       "452255  https://www.myntra.com/tops/miss-chase/miss-ch...     1035478   \n",
       "\n",
       "          BrandName               Category Individual_category  \\\n",
       "0          Roadster            Bottom Wear               jeans   \n",
       "1        LOCOMOTIVE            Bottom Wear         track-pants   \n",
       "2          Roadster                Topwear              shirts   \n",
       "3            Zivame  Lingerie & Sleep Wear           shapewear   \n",
       "4          Roadster                Western             tshirts   \n",
       "...             ...                    ...                 ...   \n",
       "452251  Belle Fille                Western                tops   \n",
       "452252   Bitterlime                Western            trousers   \n",
       "452253  Belle Fille                Western                tops   \n",
       "452254  Belle Fille                Western                tops   \n",
       "452255   Miss Chase                Western                tops   \n",
       "\n",
       "       category_by_Gender                                        Description  \\\n",
       "0                     Men  roadster men navy blue slim fit mid rise clean...   \n",
       "1                     Men  locomotive men black  white solid slim fit tra...   \n",
       "2                     Men  roadster men navy white  black geometric print...   \n",
       "3                   Women  zivame women black saree shapewear zi3023core0...   \n",
       "4                   Women  roadster women white solid v neck pure cotton ...   \n",
       "...                   ...                                                ...   \n",
       "452251              Women          belle fille women white  navy striped top   \n",
       "452252              Women  bitterlime women blue solid regular fit pleate...   \n",
       "452253              Women                         belle fille teal green top   \n",
       "452254              Women                              belle fille black top   \n",
       "452255              Women                         miss chase orange crop top   \n",
       "\n",
       "        DiscountPrice (in Rs)  OriginalPrice (in Rs) DiscountOffer  \\\n",
       "0                       824.0                 1499.0       45% OFF   \n",
       "1                       517.0                 1149.0       55% OFF   \n",
       "2                       629.0                 1399.0       55% OFF   \n",
       "3                       893.0                 1295.0       31% OFF   \n",
       "4                       389.0                  599.0       35% OFF   \n",
       "...                       ...                    ...           ...   \n",
       "452251                  500.0                  999.0       50% OFF   \n",
       "452252                  549.0                  999.0       45% OFF   \n",
       "452253                  500.0                  999.0       50% OFF   \n",
       "452254                  500.0                  999.0       50% OFF   \n",
       "452255                  559.0                  999.0       44% OFF   \n",
       "\n",
       "                    SizeOption  Ratings  Reviews  DiscountOfferNumber  \n",
       "0           28, 30, 32, 34, 36      3.9    999.0                 45.0  \n",
       "1                  S, M, L, XL      4.0    999.0                 55.0  \n",
       "2       38, 40, 42, 44, 46, 48      4.3    999.0                 55.0  \n",
       "3             S, M, L, XL, XXL      4.2    999.0                 31.0  \n",
       "4              XS, S, M, L, XL      4.2    999.0                 35.0  \n",
       "...                        ...      ...      ...                  ...  \n",
       "452251        S, M, L, XL, XXL      4.1     16.0                 50.0  \n",
       "452252      28, 30, 32, 34, 36      4.0     19.0                 45.0  \n",
       "452253        S, M, L, XL, XXL      4.1     16.0                 50.0  \n",
       "452254        S, M, L, XL, XXL      4.1     16.0                 50.0  \n",
       "452255            XS, S, M, XL      4.1     16.0                 44.0  \n",
       "\n",
       "[423837 rows x 14 columns]"
      ]
     },
     "execution_count": 78,
     "metadata": {},
     "output_type": "execute_result"
    }
   ],
   "source": [
    "df"
   ]
  },
  {
   "cell_type": "code",
   "execution_count": 79,
   "id": "d2c7fb06",
   "metadata": {},
   "outputs": [
    {
     "data": {
      "text/plain": [
       "<AxesSubplot:>"
      ]
     },
     "execution_count": 79,
     "metadata": {},
     "output_type": "execute_result"
    },
    {
     "data": {
      "image/png": "[encoded data removed]",
      "text/plain": [
       "<Figure size 640x480 with 1 Axes>"
      ]
     },
     "metadata": {},
     "output_type": "display_data"
    }
   ],
   "source": [
    "sns.boxplot(data=df['OriginalPrice (in Rs)'])"
   ]
  },
  {
   "cell_type": "code",
   "execution_count": null,
   "id": "47be5d13",
   "metadata": {},
   "outputs": [],
   "source": []
  }
 ],
 "metadata": {
  "kernelspec": {
   "display_name": "Python 3 (ipykernel)",
   "language": "python",
   "name": "python3"
  },
  "language_info": {
   "codemirror_mode": {
    "name": "ipython",
    "version": 3
   },
   "file_extension": ".py",
   "mimetype": "text/x-python",
   "name": "python",
   "nbconvert_exporter": "python",
   "pygments_lexer": "ipython3",
   "version": "3.11.4"
  }
 },
 "nbformat": 4,
 "nbformat_minor": 5
}
